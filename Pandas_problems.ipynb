{
 "cells": [
  {
   "cell_type": "code",
   "execution_count": 15,
   "metadata": {},
   "outputs": [
    {
     "data": {
      "text/html": [
       "<div>\n",
       "<style scoped>\n",
       "    .dataframe tbody tr th:only-of-type {\n",
       "        vertical-align: middle;\n",
       "    }\n",
       "\n",
       "    .dataframe tbody tr th {\n",
       "        vertical-align: top;\n",
       "    }\n",
       "\n",
       "    .dataframe thead th {\n",
       "        text-align: right;\n",
       "    }\n",
       "</style>\n",
       "<table border=\"1\" class=\"dataframe\">\n",
       "  <thead>\n",
       "    <tr style=\"text-align: right;\">\n",
       "      <th></th>\n",
       "      <th>Name</th>\n",
       "      <th>Age</th>\n",
       "      <th>City</th>\n",
       "      <th>Married</th>\n",
       "    </tr>\n",
       "  </thead>\n",
       "  <tbody>\n",
       "    <tr>\n",
       "      <th>A</th>\n",
       "      <td>A</td>\n",
       "      <td>10</td>\n",
       "      <td>Chennai</td>\n",
       "      <td>True</td>\n",
       "    </tr>\n",
       "    <tr>\n",
       "      <th>B</th>\n",
       "      <td>B</td>\n",
       "      <td>20</td>\n",
       "      <td>Hyderabad</td>\n",
       "      <td>False</td>\n",
       "    </tr>\n",
       "    <tr>\n",
       "      <th>C</th>\n",
       "      <td>C</td>\n",
       "      <td>30</td>\n",
       "      <td>Pune</td>\n",
       "      <td>True</td>\n",
       "    </tr>\n",
       "    <tr>\n",
       "      <th>D</th>\n",
       "      <td>D</td>\n",
       "      <td>40</td>\n",
       "      <td>Bangalore</td>\n",
       "      <td>False</td>\n",
       "    </tr>\n",
       "    <tr>\n",
       "      <th>E</th>\n",
       "      <td>E</td>\n",
       "      <td>50</td>\n",
       "      <td>Mumbai</td>\n",
       "      <td>False</td>\n",
       "    </tr>\n",
       "    <tr>\n",
       "      <th>F</th>\n",
       "      <td>F</td>\n",
       "      <td>60</td>\n",
       "      <td>Delhi</td>\n",
       "      <td>True</td>\n",
       "    </tr>\n",
       "  </tbody>\n",
       "</table>\n",
       "</div>"
      ],
      "text/plain": [
       "  Name  Age       City  Married\n",
       "A    A   10    Chennai     True\n",
       "B    B   20  Hyderabad    False\n",
       "C    C   30       Pune     True\n",
       "D    D   40  Bangalore    False\n",
       "E    E   50     Mumbai    False\n",
       "F    F   60      Delhi     True"
      ]
     },
     "execution_count": 15,
     "metadata": {},
     "output_type": "execute_result"
    }
   ],
   "source": [
    "### Assignment 1: DataFrame Creation and Indexing\n",
    "\n",
    "#1. Create a Pandas DataFrame with 4 columns and 6 rows filled with random integers. Set the index to be the \n",
    "# first column.\n",
    "\n",
    "import pandas as pd\n",
    "import random\n",
    "\n",
    "data = {\n",
    "    \"Name\":[\"A\",\"B\",\"C\",\"D\",\"E\",\"F\"],\n",
    "    \"Age\":[10,20,30,40,50,60],\n",
    "    \"City\":[\"Chennai\",\"Hyderabad\",\"Pune\",\"Bangalore\",\"Mumbai\",\"Delhi\"],\n",
    "    \"Married\":[True,False,True,False,False,True]\n",
    "}\n",
    "\n",
    "df = pd.DataFrame(data,index = data[\"Name\"])\n",
    "df"
   ]
  },
  {
   "cell_type": "code",
   "execution_count": 27,
   "metadata": {},
   "outputs": [
    {
     "name": "stdout",
     "output_type": "stream",
     "text": [
      "Original_DataFrame: \n"
     ]
    },
    {
     "data": {
      "text/html": [
       "<div>\n",
       "<style scoped>\n",
       "    .dataframe tbody tr th:only-of-type {\n",
       "        vertical-align: middle;\n",
       "    }\n",
       "\n",
       "    .dataframe tbody tr th {\n",
       "        vertical-align: top;\n",
       "    }\n",
       "\n",
       "    .dataframe thead th {\n",
       "        text-align: right;\n",
       "    }\n",
       "</style>\n",
       "<table border=\"1\" class=\"dataframe\">\n",
       "  <thead>\n",
       "    <tr style=\"text-align: right;\">\n",
       "      <th></th>\n",
       "      <th>A</th>\n",
       "      <th>B</th>\n",
       "      <th>C</th>\n",
       "      <th>D</th>\n",
       "    </tr>\n",
       "  </thead>\n",
       "  <tbody>\n",
       "    <tr>\n",
       "      <th>0</th>\n",
       "      <td>77</td>\n",
       "      <td>55</td>\n",
       "      <td>96</td>\n",
       "      <td>5</td>\n",
       "    </tr>\n",
       "    <tr>\n",
       "      <th>1</th>\n",
       "      <td>96</td>\n",
       "      <td>58</td>\n",
       "      <td>47</td>\n",
       "      <td>74</td>\n",
       "    </tr>\n",
       "    <tr>\n",
       "      <th>2</th>\n",
       "      <td>93</td>\n",
       "      <td>24</td>\n",
       "      <td>30</td>\n",
       "      <td>33</td>\n",
       "    </tr>\n",
       "    <tr>\n",
       "      <th>3</th>\n",
       "      <td>84</td>\n",
       "      <td>30</td>\n",
       "      <td>93</td>\n",
       "      <td>72</td>\n",
       "    </tr>\n",
       "    <tr>\n",
       "      <th>4</th>\n",
       "      <td>4</td>\n",
       "      <td>68</td>\n",
       "      <td>71</td>\n",
       "      <td>61</td>\n",
       "    </tr>\n",
       "    <tr>\n",
       "      <th>5</th>\n",
       "      <td>85</td>\n",
       "      <td>1</td>\n",
       "      <td>60</td>\n",
       "      <td>38</td>\n",
       "    </tr>\n",
       "  </tbody>\n",
       "</table>\n",
       "</div>"
      ],
      "text/plain": [
       "    A   B   C   D\n",
       "0  77  55  96   5\n",
       "1  96  58  47  74\n",
       "2  93  24  30  33\n",
       "3  84  30  93  72\n",
       "4   4  68  71  61\n",
       "5  85   1  60  38"
      ]
     },
     "execution_count": 27,
     "metadata": {},
     "output_type": "execute_result"
    }
   ],
   "source": [
    "## Above was a wrong answer. DF has to have random integers. \n",
    "import numpy as np\n",
    "df = pd.DataFrame(np.random.randint(1,100, size = (6,4)), columns = [\"A\",\"B\",\"C\",\"D\"])\n",
    "print(\"Original_DataFrame: \")\n",
    "df"
   ]
  },
  {
   "cell_type": "code",
   "execution_count": 39,
   "metadata": {},
   "outputs": [
    {
     "name": "stdout",
     "output_type": "stream",
     "text": [
      "New_DataFrame with altered index: \n"
     ]
    },
    {
     "data": {
      "text/html": [
       "<div>\n",
       "<style scoped>\n",
       "    .dataframe tbody tr th:only-of-type {\n",
       "        vertical-align: middle;\n",
       "    }\n",
       "\n",
       "    .dataframe tbody tr th {\n",
       "        vertical-align: top;\n",
       "    }\n",
       "\n",
       "    .dataframe thead th {\n",
       "        text-align: right;\n",
       "    }\n",
       "</style>\n",
       "<table border=\"1\" class=\"dataframe\">\n",
       "  <thead>\n",
       "    <tr style=\"text-align: right;\">\n",
       "      <th></th>\n",
       "      <th>B</th>\n",
       "      <th>C</th>\n",
       "      <th>D</th>\n",
       "    </tr>\n",
       "    <tr>\n",
       "      <th>A</th>\n",
       "      <th></th>\n",
       "      <th></th>\n",
       "      <th></th>\n",
       "    </tr>\n",
       "  </thead>\n",
       "  <tbody>\n",
       "    <tr>\n",
       "      <th>77</th>\n",
       "      <td>55</td>\n",
       "      <td>96</td>\n",
       "      <td>5</td>\n",
       "    </tr>\n",
       "    <tr>\n",
       "      <th>96</th>\n",
       "      <td>58</td>\n",
       "      <td>47</td>\n",
       "      <td>74</td>\n",
       "    </tr>\n",
       "    <tr>\n",
       "      <th>93</th>\n",
       "      <td>24</td>\n",
       "      <td>30</td>\n",
       "      <td>33</td>\n",
       "    </tr>\n",
       "    <tr>\n",
       "      <th>84</th>\n",
       "      <td>30</td>\n",
       "      <td>93</td>\n",
       "      <td>72</td>\n",
       "    </tr>\n",
       "    <tr>\n",
       "      <th>4</th>\n",
       "      <td>68</td>\n",
       "      <td>71</td>\n",
       "      <td>61</td>\n",
       "    </tr>\n",
       "    <tr>\n",
       "      <th>85</th>\n",
       "      <td>1</td>\n",
       "      <td>60</td>\n",
       "      <td>38</td>\n",
       "    </tr>\n",
       "  </tbody>\n",
       "</table>\n",
       "</div>"
      ],
      "text/plain": [
       "     B   C   D\n",
       "A             \n",
       "77  55  96   5\n",
       "96  58  47  74\n",
       "93  24  30  33\n",
       "84  30  93  72\n",
       "4   68  71  61\n",
       "85   1  60  38"
      ]
     },
     "execution_count": 39,
     "metadata": {},
     "output_type": "execute_result"
    }
   ],
   "source": [
    "print(\"New_DataFrame with altered index: \")\n",
    "df\n",
    "\n",
    "#df.set_index(\"A\", inplace= True)"
   ]
  },
  {
   "cell_type": "code",
   "execution_count": 44,
   "metadata": {},
   "outputs": [
    {
     "name": "stdout",
     "output_type": "stream",
     "text": [
      "2\n"
     ]
    },
    {
     "data": {
      "text/html": [
       "<div>\n",
       "<style scoped>\n",
       "    .dataframe tbody tr th:only-of-type {\n",
       "        vertical-align: middle;\n",
       "    }\n",
       "\n",
       "    .dataframe tbody tr th {\n",
       "        vertical-align: top;\n",
       "    }\n",
       "\n",
       "    .dataframe thead th {\n",
       "        text-align: right;\n",
       "    }\n",
       "</style>\n",
       "<table border=\"1\" class=\"dataframe\">\n",
       "  <thead>\n",
       "    <tr style=\"text-align: right;\">\n",
       "      <th></th>\n",
       "      <th>A</th>\n",
       "      <th>B</th>\n",
       "      <th>C</th>\n",
       "    </tr>\n",
       "  </thead>\n",
       "  <tbody>\n",
       "    <tr>\n",
       "      <th>X</th>\n",
       "      <td>5</td>\n",
       "      <td>3</td>\n",
       "      <td>2</td>\n",
       "    </tr>\n",
       "    <tr>\n",
       "      <th>Y</th>\n",
       "      <td>5</td>\n",
       "      <td>2</td>\n",
       "      <td>6</td>\n",
       "    </tr>\n",
       "    <tr>\n",
       "      <th>Z</th>\n",
       "      <td>7</td>\n",
       "      <td>1</td>\n",
       "      <td>7</td>\n",
       "    </tr>\n",
       "  </tbody>\n",
       "</table>\n",
       "</div>"
      ],
      "text/plain": [
       "   A  B  C\n",
       "X  5  3  2\n",
       "Y  5  2  6\n",
       "Z  7  1  7"
      ]
     },
     "execution_count": 44,
     "metadata": {},
     "output_type": "execute_result"
    }
   ],
   "source": [
    "#2. Create a Pandas DataFrame with columns 'A', 'B', 'C' and index 'X', 'Y', 'Z'. Fill the DataFrame with random \n",
    "# integers and access the element at row 'Y' and column 'B'.\n",
    "\n",
    "df1 = pd.DataFrame(np.random.randint(1,10, size =(3,3)), columns = [\"A\",\"B\",\"C\"], index = [\"X\",\"Y\",\"Z\"])\n",
    "print(df1.loc[\"Y\",\"B\"])\n",
    "df1"
   ]
  },
  {
   "cell_type": "code",
   "execution_count": 64,
   "metadata": {},
   "outputs": [
    {
     "data": {
      "text/html": [
       "<div>\n",
       "<style scoped>\n",
       "    .dataframe tbody tr th:only-of-type {\n",
       "        vertical-align: middle;\n",
       "    }\n",
       "\n",
       "    .dataframe tbody tr th {\n",
       "        vertical-align: top;\n",
       "    }\n",
       "\n",
       "    .dataframe thead th {\n",
       "        text-align: right;\n",
       "    }\n",
       "</style>\n",
       "<table border=\"1\" class=\"dataframe\">\n",
       "  <thead>\n",
       "    <tr style=\"text-align: right;\">\n",
       "      <th></th>\n",
       "      <th>A</th>\n",
       "      <th>B</th>\n",
       "      <th>C</th>\n",
       "      <th>D</th>\n",
       "    </tr>\n",
       "  </thead>\n",
       "  <tbody>\n",
       "    <tr>\n",
       "      <th>0</th>\n",
       "      <td>6</td>\n",
       "      <td>1</td>\n",
       "      <td>2</td>\n",
       "      <td>6</td>\n",
       "    </tr>\n",
       "    <tr>\n",
       "      <th>1</th>\n",
       "      <td>3</td>\n",
       "      <td>3</td>\n",
       "      <td>8</td>\n",
       "      <td>9</td>\n",
       "    </tr>\n",
       "    <tr>\n",
       "      <th>2</th>\n",
       "      <td>3</td>\n",
       "      <td>4</td>\n",
       "      <td>4</td>\n",
       "      <td>12</td>\n",
       "    </tr>\n",
       "    <tr>\n",
       "      <th>3</th>\n",
       "      <td>4</td>\n",
       "      <td>3</td>\n",
       "      <td>5</td>\n",
       "      <td>12</td>\n",
       "    </tr>\n",
       "    <tr>\n",
       "      <th>4</th>\n",
       "      <td>1</td>\n",
       "      <td>4</td>\n",
       "      <td>5</td>\n",
       "      <td>4</td>\n",
       "    </tr>\n",
       "  </tbody>\n",
       "</table>\n",
       "</div>"
      ],
      "text/plain": [
       "   A  B  C   D\n",
       "0  6  1  2   6\n",
       "1  3  3  8   9\n",
       "2  3  4  4  12\n",
       "3  4  3  5  12\n",
       "4  1  4  5   4"
      ]
     },
     "execution_count": 64,
     "metadata": {},
     "output_type": "execute_result"
    }
   ],
   "source": [
    "### Assignment 2: DataFrame Operations\n",
    "\n",
    "#1. Create a Pandas DataFrame with 3 columns and 5 rows filled with random integers. Add a new column that is the\n",
    "# product of the first two columns.\n",
    "\n",
    "df2 = pd.DataFrame(np.random.randint(1,10,size=(5,3)),columns=[\"A\",\"B\",\"C\"])\n",
    "df2[\"D\"] = df2[\"A\"]*df2[\"B\"]\n",
    "df2"
   ]
  },
  {
   "cell_type": "code",
   "execution_count": 79,
   "metadata": {},
   "outputs": [
    {
     "name": "stdout",
     "output_type": "stream",
     "text": [
      "   A  B  C\n",
      "0  5  8  9\n",
      "1  7  3  2\n",
      "2  6  8  7\n",
      "3  5  2  4\n",
      "Column-wise sum: \n",
      "A    23\n",
      "B    21\n",
      "C    22\n",
      "dtype: int64\n",
      "Row-wise sum: \n",
      "0    22\n",
      "1    12\n",
      "2    21\n",
      "3    11\n",
      "dtype: int64\n"
     ]
    }
   ],
   "source": [
    "#2. Create a Pandas DataFrame with 3 columns and 4 rows filled with random integers. Compute the row-wise and \n",
    "# column-wise sum.\n",
    "\n",
    "df3 = pd.DataFrame(np.random.randint(1,10, size=(4,3)), columns= [\"A\",\"B\",\"C\"])\n",
    "print(df3)\n",
    "print(\"Column-wise sum: \")\n",
    "print(df3.sum())\n",
    "print(\"Row-wise sum: \")\n",
    "print(df3.sum(axis = 1))"
   ]
  },
  {
   "cell_type": "code",
   "execution_count": 114,
   "metadata": {},
   "outputs": [
    {
     "name": "stdout",
     "output_type": "stream",
     "text": [
      "DataFrame with empty values!\n",
      "     A    B    C\n",
      "0  9.0  7.0  5.0\n",
      "1  NaN  NaN  NaN\n",
      "2  NaN  NaN  NaN\n",
      "3  7.0  4.0  2.0\n",
      "4  3.0  9.0  1.0\n",
      "\n",
      " DataFrame with corrected values!\n"
     ]
    },
    {
     "data": {
      "text/html": [
       "<div>\n",
       "<style scoped>\n",
       "    .dataframe tbody tr th:only-of-type {\n",
       "        vertical-align: middle;\n",
       "    }\n",
       "\n",
       "    .dataframe tbody tr th {\n",
       "        vertical-align: top;\n",
       "    }\n",
       "\n",
       "    .dataframe thead th {\n",
       "        text-align: right;\n",
       "    }\n",
       "</style>\n",
       "<table border=\"1\" class=\"dataframe\">\n",
       "  <thead>\n",
       "    <tr style=\"text-align: right;\">\n",
       "      <th></th>\n",
       "      <th>A</th>\n",
       "      <th>B</th>\n",
       "      <th>C</th>\n",
       "    </tr>\n",
       "  </thead>\n",
       "  <tbody>\n",
       "    <tr>\n",
       "      <th>0</th>\n",
       "      <td>9.000000</td>\n",
       "      <td>7.000000</td>\n",
       "      <td>5.000000</td>\n",
       "    </tr>\n",
       "    <tr>\n",
       "      <th>1</th>\n",
       "      <td>6.333333</td>\n",
       "      <td>6.666667</td>\n",
       "      <td>2.666667</td>\n",
       "    </tr>\n",
       "    <tr>\n",
       "      <th>2</th>\n",
       "      <td>6.333333</td>\n",
       "      <td>6.666667</td>\n",
       "      <td>2.666667</td>\n",
       "    </tr>\n",
       "    <tr>\n",
       "      <th>3</th>\n",
       "      <td>7.000000</td>\n",
       "      <td>4.000000</td>\n",
       "      <td>2.000000</td>\n",
       "    </tr>\n",
       "    <tr>\n",
       "      <th>4</th>\n",
       "      <td>3.000000</td>\n",
       "      <td>9.000000</td>\n",
       "      <td>1.000000</td>\n",
       "    </tr>\n",
       "  </tbody>\n",
       "</table>\n",
       "</div>"
      ],
      "text/plain": [
       "          A         B         C\n",
       "0  9.000000  7.000000  5.000000\n",
       "1  6.333333  6.666667  2.666667\n",
       "2  6.333333  6.666667  2.666667\n",
       "3  7.000000  4.000000  2.000000\n",
       "4  3.000000  9.000000  1.000000"
      ]
     },
     "execution_count": 114,
     "metadata": {},
     "output_type": "execute_result"
    }
   ],
   "source": [
    "### Assignment 3: Data Cleaning\n",
    "\n",
    "#1. Create a Pandas DataFrame with 3 columns and 5 rows filled with random integers. Introduce some NaN values. \n",
    "# Fill the NaN values with the mean of the respective columns.\n",
    "\n",
    "df1 = pd.DataFrame(np.random.randint(1,11,size=(5,3)), columns=[\"A\",\"B\",\"C\"])\n",
    "df1.iloc[1:3] = np.nan\n",
    "print(\"DataFrame with empty values!\")\n",
    "print(df1)\n",
    "df1[\"A\"] = df1[\"A\"].fillna(df1[\"A\"].mean())\n",
    "df1[\"B\"] = df1[\"B\"].fillna(df1[\"B\"].mean())\n",
    "df1[\"C\"] = df1[\"C\"].fillna(df1[\"C\"].mean())\n",
    "print(\"\\n DataFrame with corrected values!\")\n",
    "df1"
   ]
  },
  {
   "cell_type": "code",
   "execution_count": 159,
   "metadata": {},
   "outputs": [
    {
     "name": "stdout",
     "output_type": "stream",
     "text": [
      "   A     B    C    D\n",
      "0  2  10.0  1.0  NaN\n",
      "1  2   9.0  6.0  2.0\n",
      "2  8  10.0  NaN  4.0\n",
      "3  9   2.0  1.0  5.0\n",
      "4  3   7.0  4.0  5.0\n",
      "5  7   NaN  7.0  6.0\n",
      "\n",
      "    A    B    C    D\n",
      "1  2  9.0  6.0  2.0\n",
      "3  9  2.0  1.0  5.0\n",
      "4  3  7.0  4.0  5.0\n"
     ]
    }
   ],
   "source": [
    "#2. Create a Pandas DataFrame with 4 columns and 6 rows filled with random integers. Introduce some NaN values. \n",
    "# Drop the rows with any NaN values.\n",
    "\n",
    "df2 = pd.DataFrame(np.random.randint(1,11,size = (6,4)), columns= [\"A\",\"B\",\"C\",\"D\"])\n",
    "\n",
    "df2.iloc[0,3] = np.nan\n",
    "df2.iloc[2,2] = np.nan\n",
    "df2.iloc[5,1] = np.nan\n",
    "print(df2)\n",
    "\n",
    "\"\"\"\n",
    "dropping_index = df2[df2.isnull().any(axis=1)==True].index\n",
    "print(\"\\n Final Output Data Frame, post dropping null valued rows:\")\n",
    "df2.drop(dropping_index)\n",
    "\n",
    "# above is the code in 1st attempt and manual. Below is the simplest code. \n",
    "\"\"\"\n",
    "df2.dropna(inplace= True)\n",
    "print(\"\\n\",df2)\n"
   ]
  },
  {
   "cell_type": "code",
   "execution_count": 200,
   "metadata": {},
   "outputs": [
    {
     "name": "stdout",
     "output_type": "stream",
     "text": [
      "  Category  Value\n",
      "0        C     48\n",
      "1        B     16\n",
      "2        A     41\n",
      "3        A     98\n",
      "4        C     30\n",
      "5        B     57\n",
      "6        A     84\n",
      "7        B     19\n",
      "8        B      1\n",
      "9        C     16\n",
      "Grouped Data Frame: \n"
     ]
    },
    {
     "data": {
      "text/html": [
       "<div>\n",
       "<style scoped>\n",
       "    .dataframe tbody tr th:only-of-type {\n",
       "        vertical-align: middle;\n",
       "    }\n",
       "\n",
       "    .dataframe tbody tr th {\n",
       "        vertical-align: top;\n",
       "    }\n",
       "\n",
       "    .dataframe thead th {\n",
       "        text-align: right;\n",
       "    }\n",
       "</style>\n",
       "<table border=\"1\" class=\"dataframe\">\n",
       "  <thead>\n",
       "    <tr style=\"text-align: right;\">\n",
       "      <th></th>\n",
       "      <th>sum</th>\n",
       "      <th>mean</th>\n",
       "    </tr>\n",
       "    <tr>\n",
       "      <th>Category</th>\n",
       "      <th></th>\n",
       "      <th></th>\n",
       "    </tr>\n",
       "  </thead>\n",
       "  <tbody>\n",
       "    <tr>\n",
       "      <th>A</th>\n",
       "      <td>223</td>\n",
       "      <td>74.333333</td>\n",
       "    </tr>\n",
       "    <tr>\n",
       "      <th>B</th>\n",
       "      <td>93</td>\n",
       "      <td>23.250000</td>\n",
       "    </tr>\n",
       "    <tr>\n",
       "      <th>C</th>\n",
       "      <td>94</td>\n",
       "      <td>31.333333</td>\n",
       "    </tr>\n",
       "  </tbody>\n",
       "</table>\n",
       "</div>"
      ],
      "text/plain": [
       "          sum       mean\n",
       "Category                \n",
       "A         223  74.333333\n",
       "B          93  23.250000\n",
       "C          94  31.333333"
      ]
     },
     "execution_count": 200,
     "metadata": {},
     "output_type": "execute_result"
    }
   ],
   "source": [
    "### Assignment 4: Data Aggregation\n",
    "\n",
    "#1. Create a Pandas DataFrame with 2 columns: 'Category' and 'Value'. Fill the 'Category' column with random \n",
    "# categories ('A', 'B', 'C') and the 'Value' column with random integers. Group the DataFrame by 'Category' \n",
    "# and compute the sum and mean of 'Value' for each category.\n",
    "\n",
    "df1 = pd.DataFrame({\"Category\":np.random.choice([\"A\",\"B\",\"C\"], size = 10), \"Value\":np.random.randint(1,100,size=10)})\n",
    "print(df1)\n",
    "\n",
    "grouped = df1.groupby(\"Category\")[\"Value\"].agg([\"sum\",\"mean\"])\n",
    "print(\"Grouped Data Frame: \")\n",
    "grouped"
   ]
  },
  {
   "cell_type": "code",
   "execution_count": 207,
   "metadata": {},
   "outputs": [],
   "source": [
    "#2. Create a Pandas DataFrame with 3 columns: 'Product', 'Category', and 'Sales'. Fill the DataFrame with random \n",
    "# data. Group the DataFrame by 'Category' and compute the total sales for each category.\n",
    "\n",
    "df2 = pd.DataFrame({\n",
    "    \"Product\": np.random.choice([\"Banana\",\"iPhone16\",\"Sofa\"], size = 10),\n",
    "    \"Category\": np.random.choice([\"Fruits\",\"Electronics\",\"Furniture\"], size=10),\n",
    "    \"Sales\": np.random.randint(1,100, size = 10)\n",
    "})\n",
    "\n",
    "df2 = pd.DataFrame([\n",
    "    {\"Product\": \"iPhone16\", \"Category\":\"Electronics\"},\n",
    "    {\"Product\": \"Banana\", \"Category\":\"Fruits\"},\n",
    "    {\"Product\": \"Sofa\", \"Category\":\"Furniture\"}\n",
    "])\n",
    "\n",
    "## Both these options dont work. "
   ]
  },
  {
   "cell_type": "code",
   "execution_count": 229,
   "metadata": {},
   "outputs": [
    {
     "name": "stdout",
     "output_type": "stream",
     "text": [
      "  Product Category  Sales\n",
      "0   Prod1        B     40\n",
      "1   Prod2        A     28\n",
      "2   Prod1        A     68\n",
      "3   Prod1        A     24\n",
      "4   Prod2        A     10\n",
      "5   Prod2        B     56\n",
      "6   Prod1        B     72\n",
      "7   Prod2        A     87\n",
      "8   Prod1        C     90\n",
      "9   Prod3        B     75\n",
      "Total sales of each Category: \n"
     ]
    },
    {
     "data": {
      "text/plain": [
       "Category\n",
       "A    217\n",
       "B    243\n",
       "C     90\n",
       "Name: Sales, dtype: int32"
      ]
     },
     "execution_count": 229,
     "metadata": {},
     "output_type": "execute_result"
    }
   ],
   "source": [
    "df2 = pd.DataFrame({\n",
    "    \"Product\":np.random.choice([\"Prod1\",\"Prod2\",\"Prod3\"], size=10), \n",
    "    \"Category\":np.random.choice([\"A\",\"B\",\"C\"], size = 10),\n",
    "    \"Sales\":np.random.randint(1,100,size=10)\n",
    "})\n",
    "\n",
    "print(df2)\n",
    "grouped_df2 = df2.groupby(\"Category\")[\"Sales\"].sum()\n",
    "print(\"Total sales of each Category: \")\n",
    "grouped_df2"
   ]
  },
  {
   "cell_type": "code",
   "execution_count": 214,
   "metadata": {},
   "outputs": [
    {
     "data": {
      "text/html": [
       "<div>\n",
       "<style scoped>\n",
       "    .dataframe tbody tr th:only-of-type {\n",
       "        vertical-align: middle;\n",
       "    }\n",
       "\n",
       "    .dataframe tbody tr th {\n",
       "        vertical-align: top;\n",
       "    }\n",
       "\n",
       "    .dataframe thead th {\n",
       "        text-align: right;\n",
       "    }\n",
       "</style>\n",
       "<table border=\"1\" class=\"dataframe\">\n",
       "  <thead>\n",
       "    <tr style=\"text-align: right;\">\n",
       "      <th></th>\n",
       "      <th>Key</th>\n",
       "      <th>Value_x</th>\n",
       "      <th>Value_y</th>\n",
       "    </tr>\n",
       "  </thead>\n",
       "  <tbody>\n",
       "    <tr>\n",
       "      <th>0</th>\n",
       "      <td>A</td>\n",
       "      <td>Krishna</td>\n",
       "      <td>Chennai</td>\n",
       "    </tr>\n",
       "    <tr>\n",
       "      <th>1</th>\n",
       "      <td>B</td>\n",
       "      <td>Joy</td>\n",
       "      <td>Bangalore</td>\n",
       "    </tr>\n",
       "    <tr>\n",
       "      <th>2</th>\n",
       "      <td>C</td>\n",
       "      <td>Mallu</td>\n",
       "      <td>Mumbai</td>\n",
       "    </tr>\n",
       "  </tbody>\n",
       "</table>\n",
       "</div>"
      ],
      "text/plain": [
       "  Key  Value_x    Value_y\n",
       "0   A  Krishna    Chennai\n",
       "1   B      Joy  Bangalore\n",
       "2   C    Mallu     Mumbai"
      ]
     },
     "execution_count": 214,
     "metadata": {},
     "output_type": "execute_result"
    }
   ],
   "source": [
    "### Assignment 5: Merging DataFrames\n",
    "\n",
    "#1. Create two Pandas DataFrames with a common column. Merge the DataFrames using the common column.\n",
    "\n",
    "df3 = pd.DataFrame({\n",
    "    \"Key\": [\"A\",\"B\",\"C\"],\n",
    "    \"Value\":[\"Krishna\",\"Joy\",\"Mallu\"],\n",
    "})\n",
    "\n",
    "df4 = pd.DataFrame({\n",
    "    \"Key\": [\"A\",\"B\",\"C\"],\n",
    "    \"Value\":[\"Chennai\",\"Bangalore\",\"Mumbai\"]\n",
    "})\n",
    "\n",
    "pd.merge(df3,df4, on=\"Key\", how=\"inner\")"
   ]
  },
  {
   "cell_type": "code",
   "execution_count": 228,
   "metadata": {},
   "outputs": [
    {
     "name": "stdout",
     "output_type": "stream",
     "text": [
      "    A   B\n",
      "0  39  87\n",
      "1  61  10\n",
      "2  65  46\n",
      "3  69  97\n",
      "\n",
      "\n",
      "    C   D\n",
      "0  40  90\n",
      "1  20  41\n",
      "2  78  97\n",
      "3  55  19\n",
      "      A     B     C     D\n",
      "0  39.0  87.0   NaN   NaN\n",
      "1  61.0  10.0   NaN   NaN\n",
      "2  65.0  46.0   NaN   NaN\n",
      "3  69.0  97.0   NaN   NaN\n",
      "0   NaN   NaN  40.0  90.0\n",
      "1   NaN   NaN  20.0  41.0\n",
      "2   NaN   NaN  78.0  97.0\n",
      "3   NaN   NaN  55.0  19.0\n",
      "    A   B   C   D\n",
      "0  39  87  40  90\n",
      "1  61  10  20  41\n",
      "2  65  46  78  97\n",
      "3  69  97  55  19\n"
     ]
    }
   ],
   "source": [
    "#2. Create two Pandas DataFrames with different columns. Concatenate the DataFrames along the rows and along\n",
    "#  the columns.\n",
    "\n",
    "df1 = pd.DataFrame({\"A\":np.random.randint(1,100,size=4), \"B\":np.random.randint(1,100,size=4)})\n",
    "df2 = pd.DataFrame({\"C\":np.random.randint(1,100,size=4), \"D\":np.random.randint(1,100,size=4)})\n",
    "\n",
    "print(df1)\n",
    "print(\"\\n\")\n",
    "print(df2)\n",
    "\n",
    "# Get rows and columns separately and concatenate them: \n",
    "row_concat = pd.concat([df1,df2],axis = 0)\n",
    "print(row_concat)\n",
    "\n",
    "column_concat = pd.concat([df1,df2],axis = 1)\n",
    "print(column_concat)"
   ]
  },
  {
   "cell_type": "code",
   "execution_count": 237,
   "metadata": {},
   "outputs": [
    {
     "name": "stdout",
     "output_type": "stream",
     "text": [
      "   A   B  C\n",
      "0  2  10  4\n",
      "1  2   6  5\n",
      "2  9   6  8\n",
      "3  1   1  4\n",
      "4  9   6  6\n"
     ]
    },
    {
     "data": {
      "text/html": [
       "<div>\n",
       "<style scoped>\n",
       "    .dataframe tbody tr th:only-of-type {\n",
       "        vertical-align: middle;\n",
       "    }\n",
       "\n",
       "    .dataframe tbody tr th {\n",
       "        vertical-align: top;\n",
       "    }\n",
       "\n",
       "    .dataframe thead th {\n",
       "        text-align: right;\n",
       "    }\n",
       "</style>\n",
       "<table border=\"1\" class=\"dataframe\">\n",
       "  <thead>\n",
       "    <tr style=\"text-align: right;\">\n",
       "      <th></th>\n",
       "      <th>A</th>\n",
       "      <th>B</th>\n",
       "      <th>C</th>\n",
       "    </tr>\n",
       "  </thead>\n",
       "  <tbody>\n",
       "    <tr>\n",
       "      <th>0</th>\n",
       "      <td>4</td>\n",
       "      <td>20</td>\n",
       "      <td>8</td>\n",
       "    </tr>\n",
       "    <tr>\n",
       "      <th>1</th>\n",
       "      <td>4</td>\n",
       "      <td>12</td>\n",
       "      <td>10</td>\n",
       "    </tr>\n",
       "    <tr>\n",
       "      <th>2</th>\n",
       "      <td>18</td>\n",
       "      <td>12</td>\n",
       "      <td>16</td>\n",
       "    </tr>\n",
       "    <tr>\n",
       "      <th>3</th>\n",
       "      <td>2</td>\n",
       "      <td>2</td>\n",
       "      <td>8</td>\n",
       "    </tr>\n",
       "    <tr>\n",
       "      <th>4</th>\n",
       "      <td>18</td>\n",
       "      <td>12</td>\n",
       "      <td>12</td>\n",
       "    </tr>\n",
       "  </tbody>\n",
       "</table>\n",
       "</div>"
      ],
      "text/plain": [
       "    A   B   C\n",
       "0   4  20   8\n",
       "1   4  12  10\n",
       "2  18  12  16\n",
       "3   2   2   8\n",
       "4  18  12  12"
      ]
     },
     "execution_count": 237,
     "metadata": {},
     "output_type": "execute_result"
    }
   ],
   "source": [
    "### Assignment 9: Applying Functions\n",
    "\n",
    "#1. Create a Pandas DataFrame with 3 columns and 5 rows filled with random integers. Apply a function that\n",
    "#  doubles the values of the DataFrame.\n",
    "\n",
    "df2 = pd.DataFrame(np.random.randint(1,11, size= (5,3)), columns=[\"A\",\"B\",\"C\"])\n",
    "print(df2)\n",
    "df2.apply(lambda x:x*2)\n",
    "\n",
    "# you must use .applymap() since it works element-wise going over to each element and performing the operation\n",
    "# whereas .apply() method works on a row/column. So here it creates similar results but they operate differently \n",
    "# so to avoid unintended errors, if all the elements need to be affected then use .applymap().\n",
    "\n",
    "# Best exmaple to show the difference between them is when a DF contains strings and you need to calculate\n",
    "# the length of each strings. You apply .apply() and you will get the length of the row/column and .applymap()\n",
    "# will give you the length of each individual elements. "
   ]
  },
  {
   "cell_type": "code",
   "execution_count": 3,
   "metadata": {},
   "outputs": [
    {
     "name": "stdout",
     "output_type": "stream",
     "text": [
      "    A  B  C\n",
      "0   9  8  7\n",
      "1   6  9  4\n",
      "2   9  3  2\n",
      "3  10  5  1\n",
      "4   7  1  4\n",
      "5   4  6  3\n",
      "New DataFrame\n",
      "    A  B  C   D\n",
      "0   9  8  7  24\n",
      "1   6  9  4  19\n",
      "2   9  3  2  14\n",
      "3  10  5  1  16\n",
      "4   7  1  4  12\n",
      "5   4  6  3  13\n"
     ]
    }
   ],
   "source": [
    "#2. Create a Pandas DataFrame with 3 columns and 6 rows filled with random integers. Apply a lambda function \n",
    "# to create a new column that is the sum of the existing columns.\n",
    "\n",
    "df3 = pd.DataFrame(np.random.randint(1,11, size = (6,3)), columns=[\"A\",\"B\",\"C\"])\n",
    "print(df3)\n",
    "df3[\"D\"] = df3.sum(axis=1)\n",
    "print(\"New DataFrame\")\n",
    "print(df3)"
   ]
  },
  {
   "cell_type": "code",
   "execution_count": 4,
   "metadata": {},
   "outputs": [
    {
     "data": {
      "text/html": [
       "<div>\n",
       "<style scoped>\n",
       "    .dataframe tbody tr th:only-of-type {\n",
       "        vertical-align: middle;\n",
       "    }\n",
       "\n",
       "    .dataframe tbody tr th {\n",
       "        vertical-align: top;\n",
       "    }\n",
       "\n",
       "    .dataframe thead th {\n",
       "        text-align: right;\n",
       "    }\n",
       "</style>\n",
       "<table border=\"1\" class=\"dataframe\">\n",
       "  <thead>\n",
       "    <tr style=\"text-align: right;\">\n",
       "      <th></th>\n",
       "      <th>A</th>\n",
       "      <th>B</th>\n",
       "      <th>C</th>\n",
       "      <th>D</th>\n",
       "    </tr>\n",
       "  </thead>\n",
       "  <tbody>\n",
       "    <tr>\n",
       "      <th>0</th>\n",
       "      <td>9</td>\n",
       "      <td>8</td>\n",
       "      <td>7</td>\n",
       "      <td>24</td>\n",
       "    </tr>\n",
       "    <tr>\n",
       "      <th>1</th>\n",
       "      <td>6</td>\n",
       "      <td>9</td>\n",
       "      <td>4</td>\n",
       "      <td>19</td>\n",
       "    </tr>\n",
       "    <tr>\n",
       "      <th>2</th>\n",
       "      <td>9</td>\n",
       "      <td>3</td>\n",
       "      <td>2</td>\n",
       "      <td>14</td>\n",
       "    </tr>\n",
       "    <tr>\n",
       "      <th>3</th>\n",
       "      <td>10</td>\n",
       "      <td>5</td>\n",
       "      <td>1</td>\n",
       "      <td>16</td>\n",
       "    </tr>\n",
       "    <tr>\n",
       "      <th>4</th>\n",
       "      <td>7</td>\n",
       "      <td>1</td>\n",
       "      <td>4</td>\n",
       "      <td>12</td>\n",
       "    </tr>\n",
       "    <tr>\n",
       "      <th>5</th>\n",
       "      <td>4</td>\n",
       "      <td>6</td>\n",
       "      <td>3</td>\n",
       "      <td>13</td>\n",
       "    </tr>\n",
       "  </tbody>\n",
       "</table>\n",
       "</div>"
      ],
      "text/plain": [
       "    A  B  C   D\n",
       "0   9  8  7  24\n",
       "1   6  9  4  19\n",
       "2   9  3  2  14\n",
       "3  10  5  1  16\n",
       "4   7  1  4  12\n",
       "5   4  6  3  13"
      ]
     },
     "execution_count": 4,
     "metadata": {},
     "output_type": "execute_result"
    }
   ],
   "source": [
    "df3"
   ]
  },
  {
   "cell_type": "code",
   "execution_count": null,
   "metadata": {},
   "outputs": [],
   "source": []
  },
  {
   "cell_type": "code",
   "execution_count": null,
   "metadata": {},
   "outputs": [],
   "source": []
  },
  {
   "cell_type": "code",
   "execution_count": null,
   "metadata": {},
   "outputs": [],
   "source": []
  },
  {
   "cell_type": "code",
   "execution_count": null,
   "metadata": {},
   "outputs": [],
   "source": []
  },
  {
   "cell_type": "code",
   "execution_count": null,
   "metadata": {},
   "outputs": [],
   "source": []
  },
  {
   "cell_type": "code",
   "execution_count": null,
   "metadata": {},
   "outputs": [],
   "source": []
  },
  {
   "cell_type": "code",
   "execution_count": null,
   "metadata": {},
   "outputs": [],
   "source": []
  },
  {
   "cell_type": "code",
   "execution_count": null,
   "metadata": {},
   "outputs": [],
   "source": []
  },
  {
   "cell_type": "code",
   "execution_count": null,
   "metadata": {},
   "outputs": [],
   "source": []
  },
  {
   "cell_type": "code",
   "execution_count": null,
   "metadata": {},
   "outputs": [],
   "source": []
  },
  {
   "cell_type": "code",
   "execution_count": null,
   "metadata": {},
   "outputs": [],
   "source": []
  },
  {
   "cell_type": "code",
   "execution_count": null,
   "metadata": {},
   "outputs": [],
   "source": []
  },
  {
   "cell_type": "code",
   "execution_count": null,
   "metadata": {},
   "outputs": [],
   "source": []
  },
  {
   "cell_type": "code",
   "execution_count": null,
   "metadata": {},
   "outputs": [],
   "source": []
  },
  {
   "cell_type": "code",
   "execution_count": null,
   "metadata": {},
   "outputs": [],
   "source": []
  },
  {
   "cell_type": "code",
   "execution_count": null,
   "metadata": {},
   "outputs": [],
   "source": []
  },
  {
   "cell_type": "code",
   "execution_count": null,
   "metadata": {},
   "outputs": [],
   "source": []
  },
  {
   "cell_type": "code",
   "execution_count": null,
   "metadata": {},
   "outputs": [],
   "source": []
  },
  {
   "cell_type": "code",
   "execution_count": null,
   "metadata": {},
   "outputs": [],
   "source": []
  },
  {
   "cell_type": "code",
   "execution_count": null,
   "metadata": {},
   "outputs": [],
   "source": []
  },
  {
   "cell_type": "code",
   "execution_count": null,
   "metadata": {},
   "outputs": [],
   "source": []
  },
  {
   "cell_type": "code",
   "execution_count": null,
   "metadata": {},
   "outputs": [],
   "source": []
  },
  {
   "cell_type": "code",
   "execution_count": null,
   "metadata": {},
   "outputs": [],
   "source": []
  },
  {
   "cell_type": "code",
   "execution_count": null,
   "metadata": {},
   "outputs": [],
   "source": []
  },
  {
   "cell_type": "code",
   "execution_count": null,
   "metadata": {},
   "outputs": [],
   "source": []
  },
  {
   "cell_type": "code",
   "execution_count": null,
   "metadata": {},
   "outputs": [],
   "source": []
  },
  {
   "cell_type": "code",
   "execution_count": null,
   "metadata": {},
   "outputs": [],
   "source": []
  },
  {
   "cell_type": "code",
   "execution_count": null,
   "metadata": {},
   "outputs": [],
   "source": []
  },
  {
   "cell_type": "code",
   "execution_count": null,
   "metadata": {},
   "outputs": [],
   "source": []
  },
  {
   "cell_type": "code",
   "execution_count": null,
   "metadata": {},
   "outputs": [],
   "source": []
  },
  {
   "cell_type": "code",
   "execution_count": null,
   "metadata": {},
   "outputs": [],
   "source": []
  },
  {
   "cell_type": "code",
   "execution_count": null,
   "metadata": {},
   "outputs": [],
   "source": []
  },
  {
   "cell_type": "code",
   "execution_count": null,
   "metadata": {},
   "outputs": [],
   "source": []
  },
  {
   "cell_type": "code",
   "execution_count": null,
   "metadata": {},
   "outputs": [],
   "source": []
  },
  {
   "cell_type": "code",
   "execution_count": null,
   "metadata": {},
   "outputs": [],
   "source": []
  },
  {
   "cell_type": "code",
   "execution_count": null,
   "metadata": {},
   "outputs": [],
   "source": []
  },
  {
   "cell_type": "code",
   "execution_count": null,
   "metadata": {},
   "outputs": [],
   "source": []
  },
  {
   "cell_type": "code",
   "execution_count": null,
   "metadata": {},
   "outputs": [],
   "source": []
  },
  {
   "cell_type": "code",
   "execution_count": null,
   "metadata": {},
   "outputs": [],
   "source": []
  },
  {
   "cell_type": "code",
   "execution_count": null,
   "metadata": {},
   "outputs": [],
   "source": []
  },
  {
   "cell_type": "code",
   "execution_count": null,
   "metadata": {},
   "outputs": [],
   "source": []
  },
  {
   "cell_type": "code",
   "execution_count": null,
   "metadata": {},
   "outputs": [],
   "source": []
  },
  {
   "cell_type": "code",
   "execution_count": null,
   "metadata": {},
   "outputs": [],
   "source": []
  },
  {
   "cell_type": "code",
   "execution_count": null,
   "metadata": {},
   "outputs": [],
   "source": []
  },
  {
   "cell_type": "code",
   "execution_count": null,
   "metadata": {},
   "outputs": [],
   "source": []
  },
  {
   "cell_type": "code",
   "execution_count": null,
   "metadata": {},
   "outputs": [],
   "source": []
  },
  {
   "cell_type": "code",
   "execution_count": null,
   "metadata": {},
   "outputs": [],
   "source": []
  },
  {
   "cell_type": "code",
   "execution_count": null,
   "metadata": {},
   "outputs": [],
   "source": []
  },
  {
   "cell_type": "code",
   "execution_count": null,
   "metadata": {},
   "outputs": [],
   "source": []
  },
  {
   "cell_type": "code",
   "execution_count": null,
   "metadata": {},
   "outputs": [],
   "source": []
  },
  {
   "cell_type": "code",
   "execution_count": null,
   "metadata": {},
   "outputs": [],
   "source": []
  },
  {
   "cell_type": "code",
   "execution_count": null,
   "metadata": {},
   "outputs": [],
   "source": []
  },
  {
   "cell_type": "code",
   "execution_count": null,
   "metadata": {},
   "outputs": [],
   "source": []
  },
  {
   "cell_type": "code",
   "execution_count": null,
   "metadata": {},
   "outputs": [],
   "source": []
  },
  {
   "cell_type": "code",
   "execution_count": null,
   "metadata": {},
   "outputs": [],
   "source": []
  },
  {
   "cell_type": "code",
   "execution_count": null,
   "metadata": {},
   "outputs": [],
   "source": []
  },
  {
   "cell_type": "code",
   "execution_count": null,
   "metadata": {},
   "outputs": [],
   "source": []
  },
  {
   "cell_type": "code",
   "execution_count": null,
   "metadata": {},
   "outputs": [],
   "source": []
  },
  {
   "cell_type": "code",
   "execution_count": null,
   "metadata": {},
   "outputs": [],
   "source": []
  },
  {
   "cell_type": "code",
   "execution_count": null,
   "metadata": {},
   "outputs": [],
   "source": []
  },
  {
   "cell_type": "code",
   "execution_count": null,
   "metadata": {},
   "outputs": [],
   "source": []
  },
  {
   "cell_type": "code",
   "execution_count": null,
   "metadata": {},
   "outputs": [],
   "source": []
  },
  {
   "cell_type": "code",
   "execution_count": null,
   "metadata": {},
   "outputs": [],
   "source": []
  },
  {
   "cell_type": "code",
   "execution_count": null,
   "metadata": {},
   "outputs": [],
   "source": []
  },
  {
   "cell_type": "code",
   "execution_count": null,
   "metadata": {},
   "outputs": [],
   "source": []
  }
 ],
 "metadata": {
  "kernelspec": {
   "display_name": "Python 3",
   "language": "python",
   "name": "python3"
  },
  "language_info": {
   "codemirror_mode": {
    "name": "ipython",
    "version": 3
   },
   "file_extension": ".py",
   "mimetype": "text/x-python",
   "name": "python",
   "nbconvert_exporter": "python",
   "pygments_lexer": "ipython3",
   "version": "3.12.0"
  }
 },
 "nbformat": 4,
 "nbformat_minor": 2
}
