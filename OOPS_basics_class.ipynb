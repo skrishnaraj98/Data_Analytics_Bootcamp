{
 "cells": [
  {
   "cell_type": "code",
   "execution_count": 1,
   "metadata": {},
   "outputs": [],
   "source": [
    "##OOPS"
   ]
  },
  {
   "cell_type": "code",
   "execution_count": 2,
   "metadata": {},
   "outputs": [
    {
     "name": "stdout",
     "output_type": "stream",
     "text": [
      "<class '__main__.Car'>\n"
     ]
    }
   ],
   "source": [
    "# A Class is a blue print for creating objects. It will be having separate attributes, and methods.\n",
    "\n",
    "class Car: \n",
    "    pass\n",
    "\n",
    "audi = Car()\n",
    "bmw = Car()\n",
    "\n",
    "print(type(audi))"
   ]
  },
  {
   "cell_type": "code",
   "execution_count": 3,
   "metadata": {},
   "outputs": [
    {
     "name": "stdout",
     "output_type": "stream",
     "text": [
      "<__main__.Car object at 0x000002416F657EC0>\n"
     ]
    }
   ],
   "source": [
    "print(audi)"
   ]
  },
  {
   "cell_type": "code",
   "execution_count": 4,
   "metadata": {},
   "outputs": [
    {
     "name": "stdout",
     "output_type": "stream",
     "text": [
      "<__main__.Car object at 0x000002416E41F5F0>\n"
     ]
    }
   ],
   "source": [
    "print(bmw)"
   ]
  },
  {
   "cell_type": "code",
   "execution_count": 5,
   "metadata": {},
   "outputs": [
    {
     "name": "stdout",
     "output_type": "stream",
     "text": [
      "4\n"
     ]
    }
   ],
   "source": [
    "audi.windows = 4\n",
    "print(audi.windows)"
   ]
  },
  {
   "cell_type": "code",
   "execution_count": 7,
   "metadata": {},
   "outputs": [
    {
     "ename": "AttributeError",
     "evalue": "'Car' object has no attribute 'windows'",
     "output_type": "error",
     "traceback": [
      "\u001b[1;31m---------------------------------------------------------------------------\u001b[0m",
      "\u001b[1;31mAttributeError\u001b[0m                            Traceback (most recent call last)",
      "Cell \u001b[1;32mIn[7], line 3\u001b[0m\n\u001b[0;32m      1\u001b[0m tata \u001b[38;5;241m=\u001b[39m Car()\n\u001b[0;32m      2\u001b[0m tata\u001b[38;5;241m.\u001b[39mdoors \u001b[38;5;241m=\u001b[39m \u001b[38;5;241m4\u001b[39m\n\u001b[1;32m----> 3\u001b[0m \u001b[38;5;28mprint\u001b[39m(\u001b[43mtata\u001b[49m\u001b[38;5;241;43m.\u001b[39;49m\u001b[43mwindows\u001b[49m)\n",
      "\u001b[1;31mAttributeError\u001b[0m: 'Car' object has no attribute 'windows'"
     ]
    }
   ],
   "source": [
    "tata = Car()\n",
    "tata.doors = 4\n",
    "print(tata.windows)"
   ]
  },
  {
   "cell_type": "code",
   "execution_count": 8,
   "metadata": {},
   "outputs": [
    {
     "data": {
      "text/plain": [
       "['__class__',\n",
       " '__delattr__',\n",
       " '__dict__',\n",
       " '__dir__',\n",
       " '__doc__',\n",
       " '__eq__',\n",
       " '__format__',\n",
       " '__ge__',\n",
       " '__getattribute__',\n",
       " '__getstate__',\n",
       " '__gt__',\n",
       " '__hash__',\n",
       " '__init__',\n",
       " '__init_subclass__',\n",
       " '__le__',\n",
       " '__lt__',\n",
       " '__module__',\n",
       " '__ne__',\n",
       " '__new__',\n",
       " '__reduce__',\n",
       " '__reduce_ex__',\n",
       " '__repr__',\n",
       " '__setattr__',\n",
       " '__sizeof__',\n",
       " '__str__',\n",
       " '__subclasshook__',\n",
       " '__weakref__',\n",
       " 'doors']"
      ]
     },
     "execution_count": 8,
     "metadata": {},
     "output_type": "execute_result"
    }
   ],
   "source": [
    "dir(tata)"
   ]
  },
  {
   "cell_type": "code",
   "execution_count": 9,
   "metadata": {},
   "outputs": [
    {
     "ename": "TypeError",
     "evalue": "Dog.__init__() missing 2 required positional arguments: 'name' and 'age'",
     "output_type": "error",
     "traceback": [
      "\u001b[1;31m---------------------------------------------------------------------------\u001b[0m",
      "\u001b[1;31mTypeError\u001b[0m                                 Traceback (most recent call last)",
      "Cell \u001b[1;32mIn[9], line 9\u001b[0m\n\u001b[0;32m      6\u001b[0m         \u001b[38;5;28mself\u001b[39m\u001b[38;5;241m.\u001b[39mage \u001b[38;5;241m=\u001b[39m age\n\u001b[0;32m      8\u001b[0m \u001b[38;5;66;03m## Create objects\u001b[39;00m\n\u001b[1;32m----> 9\u001b[0m dog1 \u001b[38;5;241m=\u001b[39m \u001b[43mDog\u001b[49m\u001b[43m(\u001b[49m\u001b[43m)\u001b[49m\n",
      "\u001b[1;31mTypeError\u001b[0m: Dog.__init__() missing 2 required positional arguments: 'name' and 'age'"
     ]
    }
   ],
   "source": [
    "## Instance variable and methods\n",
    "class Dog: \n",
    "    ## Constructor\n",
    "    def __init__(self, name, age):\n",
    "        self.name = name\n",
    "        self.age = age\n",
    "\n",
    "## Create objects\n",
    "dog1 = Dog()\n"
   ]
  },
  {
   "cell_type": "code",
   "execution_count": 10,
   "metadata": {},
   "outputs": [],
   "source": [
    "dog1 = Dog(\"Brownie\", 5)"
   ]
  },
  {
   "cell_type": "code",
   "execution_count": 12,
   "metadata": {},
   "outputs": [
    {
     "name": "stdout",
     "output_type": "stream",
     "text": [
      "5\n",
      "Brownie\n"
     ]
    }
   ],
   "source": [
    "print(dog1.age)\n",
    "print(dog1.name)"
   ]
  },
  {
   "cell_type": "code",
   "execution_count": 15,
   "metadata": {},
   "outputs": [
    {
     "name": "stdout",
     "output_type": "stream",
     "text": [
      "Twister\n",
      "10\n"
     ]
    }
   ],
   "source": [
    "dog2 = Dog(\"Twister\", 10)\n",
    "print(dog2.name)\n",
    "print(dog2.age)"
   ]
  },
  {
   "cell_type": "code",
   "execution_count": 19,
   "metadata": {},
   "outputs": [
    {
     "name": "stdout",
     "output_type": "stream",
     "text": [
      "Buddy\n",
      "Buddy says woof\n"
     ]
    }
   ],
   "source": [
    "## Define a class with instance methods\n",
    "class Dog: \n",
    "    def __init__(self,name,age):\n",
    "        self.name = name\n",
    "        self.age = age\n",
    "    \n",
    "    def bark(self):\n",
    "        print(f\"{self.name} says woof\")\n",
    "    \n",
    "dog10 = Dog(\"Buddy\", 8)\n",
    "\n",
    "print(dog10.name)\n",
    "dog10.bark()\n"
   ]
  },
  {
   "cell_type": "code",
   "execution_count": 36,
   "metadata": {},
   "outputs": [
    {
     "name": "stdout",
     "output_type": "stream",
     "text": [
      "5000\n"
     ]
    }
   ],
   "source": [
    "## Modelling a Bank Account \n",
    "\n",
    "## Define a class for bank account\n",
    "class BankAccount:\n",
    "    def __init__(self,owner,balance=0):\n",
    "        self.owner = owner\n",
    "        self.balance = balance\n",
    "\n",
    "    def deposit(self,amount):\n",
    "        self.balance += amount\n",
    "        print(f\"{amount} is deposited. New balance is {self.balance}\")\n",
    "\n",
    "    def withdraw(self,amount):\n",
    "        if amount > self.balance:\n",
    "            print(\"Insufficient Funds\")\n",
    "        else: \n",
    "            self.balance -= amount\n",
    "            print(f\"{amount} is withdrawn. New balance is {self.balance}\")\n",
    "    \n",
    "    def get_balance(self):\n",
    "        return self.balance\n",
    "\n",
    "## Create an object: \n",
    "\n",
    "account = BankAccount(\"Krishna\", 5000)\n",
    "print(account.balance)\n",
    "\n"
   ]
  },
  {
   "cell_type": "code",
   "execution_count": 37,
   "metadata": {},
   "outputs": [
    {
     "name": "stdout",
     "output_type": "stream",
     "text": [
      "1000 is deposited. New balance is 6000\n"
     ]
    }
   ],
   "source": [
    "# Call Instance methods\n",
    "\n",
    "account.deposit(1000)"
   ]
  },
  {
   "cell_type": "code",
   "execution_count": 38,
   "metadata": {},
   "outputs": [
    {
     "data": {
      "text/plain": [
       "6000"
      ]
     },
     "execution_count": 38,
     "metadata": {},
     "output_type": "execute_result"
    }
   ],
   "source": [
    "account.get_balance()"
   ]
  },
  {
   "cell_type": "code",
   "execution_count": 39,
   "metadata": {},
   "outputs": [
    {
     "name": "stdout",
     "output_type": "stream",
     "text": [
      "1000 is withdrawn. New balance is 5000\n"
     ]
    }
   ],
   "source": [
    "account.withdraw(1000)"
   ]
  },
  {
   "cell_type": "code",
   "execution_count": 19,
   "metadata": {},
   "outputs": [],
   "source": [
    "## Create a Bank account class using OOPS basics. \n",
    "\n",
    "class BankAccountInfo: \n",
    "    def __init__(self, name, balance, types):\n",
    "        self.name = name\n",
    "        self.balance = balance\n",
    "        self.type = type\n",
    "    \n",
    "    def deposit(self,amount):\n",
    "        print(f\"Deposited. The new balance is {self.balance + amount}\")\n",
    "\n",
    "    def withdraw(self,amount):\n",
    "        if amount < self.balance: \n",
    "            print(f\"Successfull. Your new balance is {self.balance - amount}\")\n",
    "        else: \n",
    "            print(\"Insufficient Balance!\")\n",
    "    \n",
    "    def get_balance(self):\n",
    "        print(f\"Your current balance is {self.balance}\")\n"
   ]
  },
  {
   "cell_type": "code",
   "execution_count": 20,
   "metadata": {},
   "outputs": [],
   "source": [
    "Person1 = BankAccountInfo(\"Krishna\", 5000, \"Savings\")"
   ]
  },
  {
   "cell_type": "code",
   "execution_count": 23,
   "metadata": {},
   "outputs": [
    {
     "name": "stdout",
     "output_type": "stream",
     "text": [
      "Krishna\n",
      "Deposited. The new balance is 6000\n",
      "None\n",
      "Successfull. Your new balance is 4500\n",
      "None\n",
      "Insufficient Balance!\n",
      "None\n",
      "Your current balance is 5000\n",
      "None\n"
     ]
    }
   ],
   "source": [
    "print(Person1.name)\n",
    "print(Person1.deposit(1000))\n",
    "print(Person1.withdraw(500))\n",
    "print(Person1.withdraw(7000))\n",
    "print(Person1.get_balance())"
   ]
  },
  {
   "cell_type": "code",
   "execution_count": 24,
   "metadata": {},
   "outputs": [
    {
     "name": "stdout",
     "output_type": "stream",
     "text": [
      "Deposited. The new balance is 6000\n",
      "None\n"
     ]
    }
   ],
   "source": [
    "print(Person1.deposit(1000))"
   ]
  },
  {
   "cell_type": "code",
   "execution_count": 25,
   "metadata": {},
   "outputs": [
    {
     "name": "stdout",
     "output_type": "stream",
     "text": [
      "Deposited. The new balance is 6000\n",
      "Successfull. Your new balance is 4500\n",
      "Insufficient Balance!\n",
      "Your current balance is 5000\n"
     ]
    }
   ],
   "source": [
    "Person1.name\n",
    "Person1.deposit(1000)\n",
    "Person1.withdraw(500)\n",
    "Person1.withdraw(7000)\n",
    "Person1.get_balance()"
   ]
  },
  {
   "cell_type": "code",
   "execution_count": null,
   "metadata": {},
   "outputs": [],
   "source": []
  }
 ],
 "metadata": {
  "kernelspec": {
   "display_name": "Python 3",
   "language": "python",
   "name": "python3"
  },
  "language_info": {
   "codemirror_mode": {
    "name": "ipython",
    "version": 3
   },
   "file_extension": ".py",
   "mimetype": "text/x-python",
   "name": "python",
   "nbconvert_exporter": "python",
   "pygments_lexer": "ipython3",
   "version": "3.12.0"
  }
 },
 "nbformat": 4,
 "nbformat_minor": 2
}
