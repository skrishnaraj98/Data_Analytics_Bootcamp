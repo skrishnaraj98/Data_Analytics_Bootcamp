{
 "cells": [
  {
   "cell_type": "code",
   "execution_count": 40,
   "metadata": {},
   "outputs": [
    {
     "data": {
      "text/plain": [
       "array([[ 5, 12,  1, 18,  8],\n",
       "       [11, 18,  1, 20, 16],\n",
       "       [11,  9,  1,  4, 17],\n",
       "       [ 4,  6,  1, 18,  2],\n",
       "       [ 3,  8,  1, 14, 11]], dtype=int32)"
      ]
     },
     "execution_count": 40,
     "metadata": {},
     "output_type": "execute_result"
    }
   ],
   "source": [
    "### Assignment 1: Array Creation and Manipulation\n",
    "\n",
    "#1. Create a NumPy array of shape (5, 5) filled with random integers between 1 and 20. Replace all the elements\n",
    "#  in the third column with 1.\n",
    "\n",
    "import numpy as np\n",
    "import random \n",
    "\n",
    "\"\"\"\n",
    "a1 = np.arange(1,21).reshape(4,5)\n",
    "a1[3:] = 1\n",
    "a1\n",
    "\n",
    "This code works just that the question is asking for random integers. So we will try the random module. \n",
    "\"\"\"\n",
    "\n",
    "#1.\n",
    "\n",
    "a2 = np.random.randint(1,21,size=(5,5))\n",
    "a2[:,2] = 1\n",
    "a2"
   ]
  },
  {
   "cell_type": "code",
   "execution_count": 71,
   "metadata": {},
   "outputs": [
    {
     "data": {
      "text/plain": [
       "array([[ 0,  2,  3,  4],\n",
       "       [ 5,  0,  7,  8],\n",
       "       [ 9, 10,  0, 12],\n",
       "       [13, 14, 15,  0]])"
      ]
     },
     "execution_count": 71,
     "metadata": {},
     "output_type": "execute_result"
    }
   ],
   "source": [
    "#2. Create a NumPy array of shape (4, 4) with values from 1 to 16. Replace the diagonal elements with 0.\n",
    "\n",
    "a3 = np.arange(1,17).reshape(4,4)\n",
    "np.fill_diagonal(a3,0)\n",
    "a3"
   ]
  },
  {
   "cell_type": "code",
   "execution_count": 76,
   "metadata": {},
   "outputs": [
    {
     "name": "stdout",
     "output_type": "stream",
     "text": [
      "[[ 1  2  3  4  5  6]\n",
      " [ 7  8  9 10 11 12]\n",
      " [13 14 15 16 17 18]\n",
      " [19 20 21 22 23 24]\n",
      " [25 26 27 28 29 30]\n",
      " [31 32 33 34 35 36]]\n"
     ]
    },
    {
     "data": {
      "text/plain": [
       "array([[14, 15, 16],\n",
       "       [20, 21, 22],\n",
       "       [26, 27, 28]])"
      ]
     },
     "execution_count": 76,
     "metadata": {},
     "output_type": "execute_result"
    }
   ],
   "source": [
    "### Assignment 2: Array Indexing and Slicing\n",
    "\n",
    "#1. Create a NumPy array of shape (6, 6) with values from 1 to 36. Extract the sub-array consisting of the 3rd to \n",
    "# 5th rows and 2nd to 4th columns.\n",
    "\n",
    "arr1 = np.arange(1,37).reshape(6,6)\n",
    "print(arr1)\n",
    "arr1[2:5,1:4]\n"
   ]
  },
  {
   "cell_type": "code",
   "execution_count": 100,
   "metadata": {},
   "outputs": [
    {
     "name": "stdout",
     "output_type": "stream",
     "text": [
      "[[10  3 10  3  2]\n",
      " [ 4  9 10  8  5]\n",
      " [ 5  6 10  7  1]\n",
      " [ 4  1  3  2  2]\n",
      " [ 4  3  6  6  4]]\n"
     ]
    }
   ],
   "source": [
    "#2. Create a NumPy array of shape (5, 5) with random integers. Extract the elements on the border.\n",
    "\n",
    "# This is one method to solve, but it changes the original array in the process. \n",
    "\n",
    "a2 = np.random.randint(1,11,size = (5,5))\n",
    "print(a2)\n",
    "\n",
    "#a2[1:4,1:4] = 0\n",
    "#a2[a2>0]"
   ]
  },
  {
   "cell_type": "code",
   "execution_count": 122,
   "metadata": {},
   "outputs": [
    {
     "name": "stdout",
     "output_type": "stream",
     "text": [
      "[[10  8 10  9  2]\n",
      " [10  2  8  6  3]\n",
      " [ 7  2  5  3  9]\n",
      " [ 6  3  5  4  6]\n",
      " [ 8  5  9  1  9]]\n"
     ]
    },
    {
     "data": {
      "text/plain": [
       "array([10,  8, 10,  9,  2,  8,  5,  9,  1,  9, 10, 10,  7,  6,  8,  2,  3,\n",
       "        9,  6,  9], dtype=int32)"
      ]
     },
     "execution_count": 122,
     "metadata": {},
     "output_type": "execute_result"
    }
   ],
   "source": [
    "# Different method: \n",
    "\n",
    "a2 = np.random.randint(1,11,size = (5,5))\n",
    "print(a2)\n",
    "np.concatenate((a2[0,:],a2[-1,:],a2[:,0],a2[:,-1]))"
   ]
  },
  {
   "cell_type": "code",
   "execution_count": 134,
   "metadata": {},
   "outputs": [
    {
     "name": "stdout",
     "output_type": "stream",
     "text": [
      "[[ 8  7 16 18]\n",
      " [13 13 11 15]\n",
      " [14  8  8  8]] \n",
      "\n",
      "[[ 0 -3  0  0]\n",
      " [-3 -3  7  1]\n",
      " [ 0 -2 -6 -4]] \n",
      "\n",
      "[[16 10 64 81]\n",
      " [40 40 18 56]\n",
      " [49 15  7 12]] \n",
      "\n",
      "[[1.         0.4        1.         1.        ]\n",
      " [0.625      0.625      4.5        1.14285714]\n",
      " [1.         0.6        0.14285714 0.33333333]] \n",
      "\n"
     ]
    }
   ],
   "source": [
    "### Assignment 3: Array Operations\n",
    "\n",
    "# 1. Create two NumPy arrays of shape (3, 4) filled with random integers. Perform element-wise addition, \n",
    "# subtraction, multiplication, and division.\n",
    "\n",
    "arr3 = np.random.randint(1,10, size = (3,4))\n",
    "arr4 = np.random.randint(1,10, size = (3,4))\n",
    "\n",
    "print(arr3 + arr4,\"\\n\")\n",
    "print(arr3 - arr4,\"\\n\")\n",
    "print(arr3 * arr4, \"\\n\")\n",
    "print(arr3 / arr4, \"\\n\")"
   ]
  },
  {
   "cell_type": "code",
   "execution_count": 161,
   "metadata": {},
   "outputs": [
    {
     "name": "stdout",
     "output_type": "stream",
     "text": [
      "[[ 1  2  3  4]\n",
      " [ 5  6  7  8]\n",
      " [ 9 10 11 12]\n",
      " [13 14 15 16]]\n",
      "\n",
      " [[28 32 36 40]]\n",
      "\n",
      " [[10]\n",
      " [26]\n",
      " [42]\n",
      " [58]]\n"
     ]
    }
   ],
   "source": [
    "# 2. Create a NumPy array of shape (4, 4) with values from 1 to 16. Compute the row-wise and column-wise sum.\n",
    "\n",
    "arr5 = np.arange(1,17).reshape(4,4)\n",
    "print(arr5)\n",
    "\n",
    "# Manual method\n",
    "b = np.split(arr5,4)\n",
    "print(\"\\n\", b[0] + b[1] +b[2] + b[3])\n",
    "\n",
    "c = np.split(arr5,4,axis = 1)\n",
    "print(\"\\n\", c[0]+c[1]+c[2]+c[3])\n"
   ]
  },
  {
   "cell_type": "code",
   "execution_count": 162,
   "metadata": {},
   "outputs": [
    {
     "name": "stdout",
     "output_type": "stream",
     "text": [
      "[[ 1  2  3  4]\n",
      " [ 5  6  7  8]\n",
      " [ 9 10 11 12]\n",
      " [13 14 15 16]]\n",
      "row_sum:  [28 32 36 40]\n",
      "column_sum:  [10 26 42 58]\n"
     ]
    }
   ],
   "source": [
    "# Efficient method: \n",
    "\n",
    "arr5 = np.arange(1,17).reshape(4,4)\n",
    "print(arr5)\n",
    "\n",
    "row_sum = np.sum(arr5, axis=0)\n",
    "column_sum = np.sum(arr5, axis=1)\n",
    "\n",
    "print(\"row_sum: \", row_sum)\n",
    "print(\"column_sum: \", column_sum)"
   ]
  },
  {
   "cell_type": "code",
   "execution_count": 163,
   "metadata": {},
   "outputs": [
    {
     "data": {
      "text/plain": [
       "np.int64(10)"
      ]
     },
     "execution_count": 163,
     "metadata": {},
     "output_type": "execute_result"
    }
   ],
   "source": [
    "arr1 = np.array([1,2,3,4])\n",
    "\n",
    "np.sum(arr1)"
   ]
  },
  {
   "cell_type": "code",
   "execution_count": 171,
   "metadata": {},
   "outputs": [
    {
     "name": "stdout",
     "output_type": "stream",
     "text": [
      "4.4\n",
      "4.0\n",
      "2.7422618401604177\n",
      "7.52\n"
     ]
    }
   ],
   "source": [
    "### Assignment 4: Statistical Operations\n",
    "\n",
    "# 1. Create a NumPy array of shape (5, 5) filled with random integers. Compute the mean, median, standard deviation,\n",
    "#  and variance of the array.\n",
    "\n",
    "arr1 = np.random.randint(1,10, size = (5,5))\n",
    "print(np.mean(arr1))\n",
    "print(np.median(arr1))\n",
    "print(np.std(arr1))\n",
    "print(np.var(arr1))"
   ]
  },
  {
   "cell_type": "code",
   "execution_count": 173,
   "metadata": {},
   "outputs": [
    {
     "name": "stdout",
     "output_type": "stream",
     "text": [
      "[[-1.54919334 -1.161895   -0.77459667]\n",
      " [-0.38729833  0.          0.38729833]\n",
      " [ 0.77459667  1.161895    1.54919334]]\n"
     ]
    }
   ],
   "source": [
    "# 2. Create a NumPy array of shape (3, 3) with values from 1 to 9. Normalize the array (i.e., scale the values to \n",
    "# have a mean of 0 and a standard deviation of 1).\n",
    "\n",
    "\n",
    "arr2 = np.arange(1,10).reshape(3,3)\n",
    "\n",
    "Mean = np.mean(arr2)\n",
    "Standard_dev = np.std(arr2)\n",
    "\n",
    "# Normalization = (Array - Mean)/Standard_dev:\n",
    "\n",
    "Normalized_array = (arr2 - Mean) / Standard_dev\n",
    "print(Normalized_array)"
   ]
  },
  {
   "cell_type": "code",
   "execution_count": 176,
   "metadata": {},
   "outputs": [
    {
     "name": "stdout",
     "output_type": "stream",
     "text": [
      "[[8 6 9]\n",
      " [2 6 3]\n",
      " [9 4 5]]\n",
      "\n",
      " [[18 16 19]\n",
      " [12 16 13]\n",
      " [19 14 15]]\n"
     ]
    }
   ],
   "source": [
    "### Assignment 5: Broadcasting\n",
    "\n",
    "#1. Create a NumPy array of shape (3, 3) filled with random integers. Add a 1D array of shape (3,) to each row \n",
    "# of the 2D array using broadcasting.\n",
    "\n",
    "arr4 = np.random.randint(1,10, size = (3,3))\n",
    "print(arr4)\n",
    "a1d = np.array([10,10,10]) # random array\n",
    "\n",
    "print(\"\\n\",arr4 + a1d)"
   ]
  },
  {
   "cell_type": "code",
   "execution_count": 188,
   "metadata": {},
   "outputs": [
    {
     "name": "stdout",
     "output_type": "stream",
     "text": [
      "Original Array \n",
      " [[14  7  9  3]\n",
      " [ 1  3 14 10]\n",
      " [ 9  1 10  1]\n",
      " [16  4 14  8]]\n",
      "Column_array \n",
      " [[1]\n",
      " [1]\n",
      " [4]\n",
      " [1]]\n",
      "Output_array \n",
      " [[13  6  8  2]\n",
      " [ 0  2 13  9]\n",
      " [ 5 -3  6 -3]\n",
      " [15  3 13  7]]\n"
     ]
    }
   ],
   "source": [
    "#2. Create a NumPy array of shape (4, 4) filled with random integers. Subtract a 1D array of shape (4,) from each\n",
    "#  column of the 2D array using broadcasting.\n",
    "\n",
    "arr5 = np.random.randint(1,17, size = (4,4))\n",
    "ad1 = np.random.randint(1,5, size =(4,))\n",
    "\n",
    "print(\"Original Array\", \"\\n\",arr5)\n",
    "print(\"Column_array\", \"\\n\", ad1[:,np.newaxis])\n",
    "\n",
    "print(\"Output_array\",\"\\n\", arr5 - ad1[:,np.newaxis])\n"
   ]
  },
  {
   "cell_type": "code",
   "execution_count": 206,
   "metadata": {},
   "outputs": [
    {
     "name": "stdout",
     "output_type": "stream",
     "text": [
      "Determinant:  -31.99999999999993\n",
      "Inverse:  \n",
      " [[-0.125   0.75   -0.875 ]\n",
      " [ 0.4375 -1.375   1.5625]\n",
      " [-0.5     1.5    -1.5   ]]\n",
      "Eigen_values:  \n",
      " [15.79309906  6.51777416 -0.31087322]\n"
     ]
    }
   ],
   "source": [
    "### Assignment 6: Linear Algebra\n",
    "\n",
    "#1. Create a NumPy array of shape (3, 3) representing a matrix. Compute its determinant, inverse, and eigenvalues.\n",
    "\n",
    "ar1 = np.random.randint(1,10,size = (3,3))\n",
    "\n",
    "det = np.linalg.det(ar1)\n",
    "inv = np.linalg.inv(ar1)\n",
    "eig = np.linalg.eigvals(ar1)\n",
    "\n",
    "print(\"Determinant: \",det)\n",
    "print(\"Inverse: \",\"\\n\", inv)\n",
    "print(\"Eigen_values: \", \"\\n\", eig)"
   ]
  },
  {
   "cell_type": "code",
   "execution_count": 212,
   "metadata": {},
   "outputs": [
    {
     "name": "stdout",
     "output_type": "stream",
     "text": [
      "[[95 36]\n",
      " [31 16]]\n"
     ]
    }
   ],
   "source": [
    "#2. Create two NumPy arrays of shape (2, 3) and (3, 2). Perform matrix multiplication on these arrays.\n",
    "\n",
    "ar2 = np.random.randint(1,10,size = (2,3))\n",
    "ar3 = np.random.randint(1,10, size = (3,2))\n",
    "\n",
    "# Matrix Multiplication is basically mutiplying a row of one matrix with column of another. \n",
    "# Its also called the dot product and can be done using np.dot(array1, array2) \n",
    "\n",
    "print(np.dot(ar2,ar3))"
   ]
  },
  {
   "cell_type": "code",
   "execution_count": 214,
   "metadata": {},
   "outputs": [
    {
     "name": "stdout",
     "output_type": "stream",
     "text": [
      "[[1 2 3 4 5 6 7 8 9]]\n",
      "\n",
      " [[1]\n",
      " [2]\n",
      " [3]\n",
      " [4]\n",
      " [5]\n",
      " [6]\n",
      " [7]\n",
      " [8]\n",
      " [9]]\n"
     ]
    }
   ],
   "source": [
    "### Assignment 7: Advanced Array Manipulation\n",
    "\n",
    "#1. Create a NumPy array of shape (3, 3) with values from 1 to 9. Reshape the array to shape (1, 9) and then to \n",
    "# shape (9, 1).\n",
    "\n",
    "new_array = np.arange(1,10).reshape(3,3)\n",
    "print(new_array.reshape(1,9))\n",
    "print(\"\\n\",new_array.reshape(9,1))\n"
   ]
  },
  {
   "cell_type": "code",
   "execution_count": 219,
   "metadata": {},
   "outputs": [
    {
     "name": "stdout",
     "output_type": "stream",
     "text": [
      "[[ 1  4  9 10  8  7  7  5  8  2  5  5 10  9  6  9 10  1  6  6  2  4  5  2\n",
      "   4]]\n",
      "\n",
      " [[ 1  4  9 10  8]\n",
      " [ 7  7  5  8  2]\n",
      " [ 5  5 10  9  6]\n",
      " [ 9 10  1  6  6]\n",
      " [ 2  4  5  2  4]]\n",
      "[ 1  4  9 10  8  7  7  5  8  2  5  5 10  9  6  9 10  1  6  6  2  4  5  2\n",
      "  4]\n"
     ]
    }
   ],
   "source": [
    "#2. Create a NumPy array of shape (5, 5) filled with random integers. Flatten the array and then reshape it back\n",
    "#  to (5, 5).\n",
    "\n",
    "arr1 = np.random.randint(1,11, size = (5,5))\n",
    "print(arr1.reshape(1,25))\n",
    "print(\"\\n\",arr1.reshape(5,5))\n",
    "\n",
    "\n",
    "# we can also use .flatten() method to flatten any matrix: \n",
    "print(arr1.flatten())\n"
   ]
  },
  {
   "cell_type": "code",
   "execution_count": 232,
   "metadata": {},
   "outputs": [
    {
     "name": "stdout",
     "output_type": "stream",
     "text": [
      "[[3 6 2 4 4]\n",
      " [9 9 2 7 1]\n",
      " [1 6 9 8 8]\n",
      " [7 1 3 5 7]\n",
      " [4 3 2 6 9]]\n",
      "3 4 4 9\n"
     ]
    }
   ],
   "source": [
    "### Assignment 8: Fancy Indexing and Boolean Indexing\n",
    "\n",
    "#1. Create a NumPy array of shape (5, 5) filled with random integers. Use fancy indexing to extract the elements \n",
    "# at the corners of the array.\n",
    "\n",
    "arr2 = np.random.randint(1,10, size = (5,5))\n",
    "\n",
    "print(arr2)\n",
    "print(arr2[0,0], arr2[0,-1], arr2[-1,0],arr2[-1,-1])\n"
   ]
  },
  {
   "cell_type": "code",
   "execution_count": 233,
   "metadata": {},
   "outputs": [
    {
     "name": "stdout",
     "output_type": "stream",
     "text": [
      "[[14 13  5 14]\n",
      " [ 5  7  3  5]\n",
      " [10  3 10  6]\n",
      " [12 14  6 10]] \n",
      "\n",
      "[[10 10  5 10]\n",
      " [ 5  7  3  5]\n",
      " [10  3 10  6]\n",
      " [10 10  6 10]]\n"
     ]
    }
   ],
   "source": [
    "#2. Create a NumPy array of shape (4, 4) filled with random integers. Use boolean indexing to set all elements \n",
    "# greater than 10 to 10.\n",
    "\n",
    "arr3 = np.random.randint(1,20,size=(4,4))\n",
    "print(arr3,\"\\n\")\n",
    "arr3[(arr3 > 10)] = 10\n",
    "print(arr3)"
   ]
  },
  {
   "cell_type": "code",
   "execution_count": 265,
   "metadata": {},
   "outputs": [
    {
     "name": "stdout",
     "output_type": "stream",
     "text": [
      "Original_Array:  [('krishna', 26, 103.5 ) ('SK', 25, 102.65) ('Raj', 28, 100.45)]\n",
      "Sorted_array [('SK', 25, 102.65) ('krishna', 26, 103.5 ) ('Raj', 28, 100.45)]\n"
     ]
    }
   ],
   "source": [
    "### Assignment 9: Structured Arrays\n",
    "\n",
    "#1. Create a structured array with fields 'name' (string), 'age' (integer), and 'weight' (float). Add some data \n",
    "# and sort the array by age.\n",
    "\n",
    "DType = [(\"name\",\"U10\"), (\"age\", \"i4\"), (\"weight\",\"f4\")]\n",
    "arr = np.array([(\"krishna\",26,103.5), (\"SK\", 25, 102.65), (\"Raj\", 28, 100.45)], dtype = DType)\n",
    "print(\"Original_Array: \", arr)\n",
    "\n",
    "sorted_arr = np.sort(arr, order = \"age\")\n",
    "print(\"Sorted_array\",sorted_arr)\n"
   ]
  },
  {
   "cell_type": "code",
   "execution_count": 270,
   "metadata": {},
   "outputs": [
    {
     "name": "stdout",
     "output_type": "stream",
     "text": [
      "[[15  3 19  1]\n",
      " [18 11  2  3]\n",
      " [10 12 13 18]\n",
      " [ 5  2 15 14]]\n",
      "[3 1 2 3 5 2] 16\n"
     ]
    }
   ],
   "source": [
    "### Assignment 10: Masked Arrays\n",
    "\n",
    "#1. Create a masked array of shape (4, 4) with random integers and mask the elements greater than 10. Compute the \n",
    "# sum of the unmasked elements.\n",
    "\n",
    "a = np.random.randint(1,20, size = (4,4))\n",
    "print(a)\n",
    "mask = a>10\n",
    "mask2 = a<10\n",
    "\n",
    "print(a[mask2], sum(a[mask2]))"
   ]
  },
  {
   "cell_type": "code",
   "execution_count": null,
   "metadata": {},
   "outputs": [],
   "source": []
  },
  {
   "cell_type": "code",
   "execution_count": null,
   "metadata": {},
   "outputs": [],
   "source": []
  },
  {
   "cell_type": "code",
   "execution_count": null,
   "metadata": {},
   "outputs": [],
   "source": []
  },
  {
   "cell_type": "code",
   "execution_count": null,
   "metadata": {},
   "outputs": [],
   "source": []
  },
  {
   "cell_type": "code",
   "execution_count": null,
   "metadata": {},
   "outputs": [],
   "source": []
  },
  {
   "cell_type": "code",
   "execution_count": null,
   "metadata": {},
   "outputs": [],
   "source": []
  },
  {
   "cell_type": "code",
   "execution_count": null,
   "metadata": {},
   "outputs": [],
   "source": []
  },
  {
   "cell_type": "code",
   "execution_count": null,
   "metadata": {},
   "outputs": [],
   "source": []
  },
  {
   "cell_type": "code",
   "execution_count": null,
   "metadata": {},
   "outputs": [],
   "source": []
  },
  {
   "cell_type": "code",
   "execution_count": null,
   "metadata": {},
   "outputs": [],
   "source": []
  },
  {
   "cell_type": "code",
   "execution_count": null,
   "metadata": {},
   "outputs": [],
   "source": []
  },
  {
   "cell_type": "code",
   "execution_count": null,
   "metadata": {},
   "outputs": [],
   "source": []
  },
  {
   "cell_type": "code",
   "execution_count": null,
   "metadata": {},
   "outputs": [],
   "source": []
  },
  {
   "cell_type": "code",
   "execution_count": null,
   "metadata": {},
   "outputs": [],
   "source": []
  },
  {
   "cell_type": "code",
   "execution_count": null,
   "metadata": {},
   "outputs": [],
   "source": []
  },
  {
   "cell_type": "code",
   "execution_count": null,
   "metadata": {},
   "outputs": [],
   "source": []
  },
  {
   "cell_type": "code",
   "execution_count": null,
   "metadata": {},
   "outputs": [],
   "source": []
  },
  {
   "cell_type": "code",
   "execution_count": null,
   "metadata": {},
   "outputs": [],
   "source": []
  },
  {
   "cell_type": "code",
   "execution_count": null,
   "metadata": {},
   "outputs": [],
   "source": []
  },
  {
   "cell_type": "code",
   "execution_count": null,
   "metadata": {},
   "outputs": [],
   "source": []
  },
  {
   "cell_type": "code",
   "execution_count": null,
   "metadata": {},
   "outputs": [],
   "source": []
  },
  {
   "cell_type": "code",
   "execution_count": null,
   "metadata": {},
   "outputs": [],
   "source": []
  },
  {
   "cell_type": "code",
   "execution_count": null,
   "metadata": {},
   "outputs": [],
   "source": []
  },
  {
   "cell_type": "code",
   "execution_count": null,
   "metadata": {},
   "outputs": [],
   "source": []
  },
  {
   "cell_type": "code",
   "execution_count": null,
   "metadata": {},
   "outputs": [],
   "source": []
  },
  {
   "cell_type": "code",
   "execution_count": null,
   "metadata": {},
   "outputs": [],
   "source": []
  },
  {
   "cell_type": "code",
   "execution_count": null,
   "metadata": {},
   "outputs": [],
   "source": []
  },
  {
   "cell_type": "code",
   "execution_count": null,
   "metadata": {},
   "outputs": [],
   "source": []
  },
  {
   "cell_type": "code",
   "execution_count": null,
   "metadata": {},
   "outputs": [],
   "source": []
  },
  {
   "cell_type": "code",
   "execution_count": null,
   "metadata": {},
   "outputs": [],
   "source": []
  },
  {
   "cell_type": "code",
   "execution_count": null,
   "metadata": {},
   "outputs": [],
   "source": []
  },
  {
   "cell_type": "code",
   "execution_count": null,
   "metadata": {},
   "outputs": [],
   "source": []
  },
  {
   "cell_type": "code",
   "execution_count": null,
   "metadata": {},
   "outputs": [],
   "source": []
  },
  {
   "cell_type": "code",
   "execution_count": null,
   "metadata": {},
   "outputs": [],
   "source": []
  },
  {
   "cell_type": "code",
   "execution_count": null,
   "metadata": {},
   "outputs": [],
   "source": []
  },
  {
   "cell_type": "code",
   "execution_count": null,
   "metadata": {},
   "outputs": [],
   "source": []
  },
  {
   "cell_type": "code",
   "execution_count": null,
   "metadata": {},
   "outputs": [],
   "source": []
  },
  {
   "cell_type": "code",
   "execution_count": null,
   "metadata": {},
   "outputs": [],
   "source": []
  },
  {
   "cell_type": "code",
   "execution_count": null,
   "metadata": {},
   "outputs": [],
   "source": []
  },
  {
   "cell_type": "code",
   "execution_count": null,
   "metadata": {},
   "outputs": [],
   "source": []
  },
  {
   "cell_type": "code",
   "execution_count": null,
   "metadata": {},
   "outputs": [],
   "source": [
    "``"
   ]
  }
 ],
 "metadata": {
  "kernelspec": {
   "display_name": "Python 3",
   "language": "python",
   "name": "python3"
  },
  "language_info": {
   "codemirror_mode": {
    "name": "ipython",
    "version": 3
   },
   "file_extension": ".py",
   "mimetype": "text/x-python",
   "name": "python",
   "nbconvert_exporter": "python",
   "pygments_lexer": "ipython3",
   "version": "3.12.0"
  }
 },
 "nbformat": 4,
 "nbformat_minor": 2
}
