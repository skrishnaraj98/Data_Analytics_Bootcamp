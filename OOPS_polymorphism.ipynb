{
 "cells": [
  {
   "cell_type": "code",
   "execution_count": 1,
   "metadata": {},
   "outputs": [],
   "source": [
    "#Polymorphism"
   ]
  },
  {
   "cell_type": "markdown",
   "metadata": {},
   "source": [
    "###  Polymorphism is a core concept in OOP, that allows objects of different classe to treated as objects of \n",
    "###  a common superclass. It provides a way to perform single action in many different forms. It is achieved\n",
    "###  typically by using method overriding and interfaces. "
   ]
  },
  {
   "cell_type": "code",
   "execution_count": 33,
   "metadata": {},
   "outputs": [
    {
     "name": "stdout",
     "output_type": "stream",
     "text": [
      "Woof, Woof!\n",
      "Meow, Meow!\n"
     ]
    },
    {
     "data": {
      "text/plain": [
       "'Woof, Woof!'"
      ]
     },
     "execution_count": 33,
     "metadata": {},
     "output_type": "execute_result"
    }
   ],
   "source": [
    "## Method Overriding :\n",
    "\n",
    "# Method Overriding allows a child class to alter implentation of a method defined within its parent class. \n",
    "\n",
    "# Base class: \n",
    "\n",
    "class Animal():\n",
    "    def speak(self):\n",
    "        return \"Print the animal sound: \"\n",
    "\n",
    "# Child Class 1:\n",
    "\n",
    "class Dog():\n",
    "    def speak(self):\n",
    "        return \"Woof, Woof!\"\n",
    "    \n",
    "class Cat():\n",
    "    def speak(self):\n",
    "        return \"Meow, Meow!\"\n",
    "    \n",
    "\n",
    "dog1 = Dog()\n",
    "print(dog1.speak())\n",
    "\n",
    "cat1 = Cat()\n",
    "print(cat1.speak())\n",
    "\n",
    "# Function depicting polymorphism: \n",
    "\n",
    "def animal_talk(animal):\n",
    "    return animal.speak()\n",
    "\n",
    "animal_talk(dog1)"
   ]
  },
  {
   "cell_type": "code",
   "execution_count": 41,
   "metadata": {},
   "outputs": [
    {
     "name": "stdout",
     "output_type": "stream",
     "text": [
      "The area is The area of rectangle is 200\n",
      "The area is The area of cirle is 78.5\n"
     ]
    }
   ],
   "source": [
    "# Polymorphism with functions and methods \n",
    "\n",
    "# Base class: \n",
    "\n",
    "class Shape:\n",
    "    def area(self):\n",
    "        return \"The area of the figure is XYZ!\"\n",
    "\n",
    "# 1st Child Class: \n",
    "\n",
    "class Rectangle(Shape):\n",
    "    def __init__(self, width, height): \n",
    "        self.width = width\n",
    "        self.height = height\n",
    "    \n",
    "    def area(self):\n",
    "        return f\"The area of rectangle is {self.width * self.height}\"\n",
    "\n",
    "#2nd Child Class: \n",
    "\n",
    "class Circle(Shape):\n",
    "    def __init__ (self, radius): \n",
    "        self.radius = radius\n",
    "\n",
    "    def area(self): \n",
    "        return f\"The area of cirle is {3.14 * self.radius**2}\"\n",
    "    \n",
    "def shape_area(Shape):\n",
    "    return f\"The area is {Shape.area()}\"\n",
    "\n",
    "Rect = Rectangle(10,20)\n",
    "Circ = Circle(5)\n",
    "\n",
    "print(shape_area(Rect))\n",
    "print(shape_area(Circ))"
   ]
  },
  {
   "cell_type": "code",
   "execution_count": 42,
   "metadata": {},
   "outputs": [],
   "source": [
    "##Interfaces"
   ]
  },
  {
   "cell_type": "code",
   "execution_count": 4,
   "metadata": {},
   "outputs": [
    {
     "name": "stdout",
     "output_type": "stream",
     "text": [
      "Car engine started\n",
      "Bike engine started\n"
     ]
    }
   ],
   "source": [
    "# Polymorphism with Abstract Base Classes (ABCs):\n",
    "\n",
    "# ABCs are used to define common methods for a group of related objects. They can enforce that derived classes \n",
    "#implement particular methods, promoting consistency across different implementations. \n",
    "\n",
    "from abc import ABC, abstractmethod\n",
    "\n",
    "## Define an abstract class\n",
    "## ABCs are generally empty classes and methods initialized within are also empty. \n",
    "\n",
    "class Vehicle(ABC):\n",
    "    @abstractmethod\n",
    "    def start_engine(self):\n",
    "        pass\n",
    "\n",
    "# Child Class: \n",
    "\n",
    "class Car(Vehicle):\n",
    "    def start_engine(self):\n",
    "        return \"Car engine started\"\n",
    "\n",
    "# Child Class 2: \n",
    "\n",
    "class Bike(Vehicle):\n",
    "    def start_engine(self):\n",
    "        return \"Bike engine started\"\n",
    "    \n",
    "\n",
    "## Function that demonstrates Polymorphism: \n",
    "\n",
    "def start_vehicle(vehicle):\n",
    "    print(vehicle.start_engine())\n",
    "\n",
    "## Objects of Car and Bike: \n",
    "\n",
    "car = Car()\n",
    "bike = Bike()\n",
    "\n",
    "start_vehicle(car)\n",
    "start_vehicle(bike)\n"
   ]
  },
  {
   "cell_type": "code",
   "execution_count": null,
   "metadata": {},
   "outputs": [],
   "source": []
  },
  {
   "cell_type": "code",
   "execution_count": null,
   "metadata": {},
   "outputs": [],
   "source": []
  },
  {
   "cell_type": "code",
   "execution_count": null,
   "metadata": {},
   "outputs": [],
   "source": []
  },
  {
   "cell_type": "code",
   "execution_count": null,
   "metadata": {},
   "outputs": [],
   "source": []
  },
  {
   "cell_type": "code",
   "execution_count": null,
   "metadata": {},
   "outputs": [],
   "source": []
  },
  {
   "cell_type": "code",
   "execution_count": null,
   "metadata": {},
   "outputs": [],
   "source": []
  },
  {
   "cell_type": "code",
   "execution_count": null,
   "metadata": {},
   "outputs": [],
   "source": []
  },
  {
   "cell_type": "code",
   "execution_count": null,
   "metadata": {},
   "outputs": [],
   "source": []
  },
  {
   "cell_type": "code",
   "execution_count": null,
   "metadata": {},
   "outputs": [],
   "source": []
  },
  {
   "cell_type": "code",
   "execution_count": null,
   "metadata": {},
   "outputs": [],
   "source": []
  }
 ],
 "metadata": {
  "kernelspec": {
   "display_name": "Python 3",
   "language": "python",
   "name": "python3"
  },
  "language_info": {
   "codemirror_mode": {
    "name": "ipython",
    "version": 3
   },
   "file_extension": ".py",
   "mimetype": "text/x-python",
   "name": "python",
   "nbconvert_exporter": "python",
   "pygments_lexer": "ipython3",
   "version": "3.12.0"
  }
 },
 "nbformat": 4,
 "nbformat_minor": 2
}
