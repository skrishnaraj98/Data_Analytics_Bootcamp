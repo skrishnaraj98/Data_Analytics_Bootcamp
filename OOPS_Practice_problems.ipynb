{
 "cells": [
  {
   "cell_type": "code",
   "execution_count": 4,
   "metadata": {},
   "outputs": [
    {
     "name": "stdout",
     "output_type": "stream",
     "text": [
      "Sports Car\n",
      "Mustang\n",
      "1968\n"
     ]
    }
   ],
   "source": [
    "### Assignment 1: Basic Class and Object Creation\n",
    "\n",
    "# Create a class named `Car` with attributes `make`, `model`, and `year`. Create an object of the class and print \n",
    "# its attributes.\n",
    "\n",
    "\n",
    "class Car:\n",
    "    def __init__(self,make,model,year):\n",
    "        self.make = make\n",
    "        self.model = model \n",
    "        self.year = year\n",
    "\n",
    "Ford = Car(\"Sports Car\", \"Mustang\", 1968)\n",
    "\n",
    "print(Ford.make)\n",
    "print(Ford.model)\n",
    "print(Ford.year)"
   ]
  },
  {
   "cell_type": "code",
   "execution_count": 6,
   "metadata": {},
   "outputs": [
    {
     "name": "stdout",
     "output_type": "stream",
     "text": [
      "Turn the knob and engine will fire up!\n"
     ]
    }
   ],
   "source": [
    "### Assignment 2: Methods in Class\n",
    "\n",
    "# Add a method named `start_engine` to the `Car` class that prints a message when the engine starts. \n",
    "# Create an object of the class and call the method.\n",
    "\n",
    "class Car:\n",
    "    def __init__(self,make,model,year):\n",
    "        self.make = make\n",
    "        self.model = model \n",
    "        self.year = year\n",
    "    \n",
    "    def start_engine(self):\n",
    "        print(\"Turn the knob and engine will fire up!\")\n",
    "\n",
    "Ford = Car(\"Sports Car\", \"Mustang\", 1968)\n",
    "Ford.start_engine()\n"
   ]
  },
  {
   "cell_type": "code",
   "execution_count": 7,
   "metadata": {},
   "outputs": [
    {
     "name": "stdout",
     "output_type": "stream",
     "text": [
      "Krishna\n",
      "17\n"
     ]
    }
   ],
   "source": [
    "### Assignment 3: Class with Constructor\n",
    "\n",
    "# Create a class named `Student` with attributes `name` and `age`. Use a constructor to initialize these \n",
    "# attributes. Create an object of the class and print its attributes.\n",
    "\n",
    "class Student:\n",
    "    def __init__(self, name, age):\n",
    "        self.name = name\n",
    "        self.age = age\n",
    "\n",
    "Stud1 = Student(\"Krishna\", \"17\")\n",
    "print(Stud1.name)\n",
    "print(Stud1.age)"
   ]
  },
  {
   "cell_type": "code",
   "execution_count": 10,
   "metadata": {},
   "outputs": [],
   "source": [
    "class Shape:\n",
    "    def __init__(self):\n",
    "        self.colour = \"Green\"\n",
    "    def triangle(self):\n",
    "        print(\"Hellye\")"
   ]
  },
  {
   "cell_type": "code",
   "execution_count": 15,
   "metadata": {},
   "outputs": [
    {
     "name": "stdout",
     "output_type": "stream",
     "text": [
      "Hellye\n"
     ]
    }
   ],
   "source": [
    "Sqaure = Shape()\n",
    "Sqaure.colour\n",
    "Sqaure.triangle()"
   ]
  },
  {
   "cell_type": "code",
   "execution_count": 34,
   "metadata": {},
   "outputs": [
    {
     "name": "stdout",
     "output_type": "stream",
     "text": [
      "Money deposited. Your new balance is 1000\n",
      "Successfull. Your new balance is 800\n"
     ]
    }
   ],
   "source": [
    "### Assignment 4: Class with Private Attributes\n",
    "\n",
    "#Create a class named `BankAccount` with private attributes `account_number` and `balance`. Add methods to \n",
    "# deposit and withdraw money, and to check the balance. Create an object of the class and perform some operations.\n",
    "\n",
    "class BankAccount:\n",
    "    def __init__(self, account_number, balance):\n",
    "        self.__account_number = account_number\n",
    "        self.__balance = balance\n",
    "\n",
    "    def deposit(self,amount):\n",
    "        self.__balance += amount\n",
    "        print(f\"Money deposited. Your new balance is {self.__balance}\")\n",
    "\n",
    "    def withdraw(self,amount):\n",
    "        if amount < self.__balance:\n",
    "            self.__balance -= amount\n",
    "            print(f\"Successfull. Your new balance is {self.__balance}\")\n",
    "        else: \n",
    "            print(\"Insufficient Balance. Try again later!\")\n",
    "\n",
    "Bank1 = BankAccount(\"xyz123\", 500)\n",
    "Bank1.deposit(500)\n",
    "Bank1.withdraw(200)\n"
   ]
  },
  {
   "cell_type": "code",
   "execution_count": 13,
   "metadata": {},
   "outputs": [
    {
     "name": "stdout",
     "output_type": "stream",
     "text": [
      "['Krishna', 26, 'Qzz']\n"
     ]
    }
   ],
   "source": [
    "### Assignment 5: Class Inheritance\n",
    "\n",
    "#Create a base class named `Person` with attributes `name` and `age`. Create a derived class named `Employee` \n",
    "# that inherits from `Person` and adds an attribute `employee_id`. Create an object of the derived class and\n",
    "#  print its attributes.\n",
    "\n",
    "class Person:\n",
    "    def __init__(self, name, age):\n",
    "        self.name = name\n",
    "        self.age = age     \n",
    "\n",
    "class Employee(Person): \n",
    "    def __init__(self, name, age, employee_id):\n",
    "        super().__init__(name, age)\n",
    "        self.employee_id = employee_id\n",
    "\n",
    "e1 = Employee(\"Krishna\",26,\"Qzz\")\n",
    "print([e1.name,e1.age,e1.employee_id])"
   ]
  },
  {
   "cell_type": "code",
   "execution_count": 15,
   "metadata": {},
   "outputs": [
    {
     "name": "stdout",
     "output_type": "stream",
     "text": [
      "Employee(Name: S_Krishna_Raj, Age: 26, Employee_ID: Q22)\n"
     ]
    }
   ],
   "source": [
    "### Assignment 6: Method Overriding\n",
    "\n",
    "#In the `Employee` class, override the `__str__` method to return a string representation of the object. \n",
    "# Create an object of the class and print it.\n",
    "\n",
    "class Employee(Person):\n",
    "    def __init__(self,name,age,employee_id):\n",
    "        super().__init__ (name,age)\n",
    "        self.employee_id = employee_id  \n",
    "\n",
    "    def __str__ (self):\n",
    "        return f\"Employee(Name: {self.name}, Age: {self.age}, Employee_ID: {self.employee_id})\"\n",
    "\n",
    "emp = Employee(\"S_Krishna_Raj\", 26, \"Q22\")\n",
    "print(emp)"
   ]
  },
  {
   "cell_type": "code",
   "execution_count": 24,
   "metadata": {},
   "outputs": [
    {
     "name": "stdout",
     "output_type": "stream",
     "text": [
      "10\n",
      "8\n",
      "Your length is short! Try later.\n",
      "None\n",
      "Your width is narrower than my expectations. Go Away!\n",
      "None\n",
      "8\n",
      "None\n",
      "20\n"
     ]
    }
   ],
   "source": [
    "### Assignment 10: Class with Properties\n",
    "\n",
    "#Create a class named `Rectangle` with private attributes `length` and `width`. Use properties to get and set \n",
    "# these attributes. Create an object of the class and test the properties.\n",
    "\n",
    "## We are not using here Properties, instead we are using Getter and Setter to determine the private attributes. \n",
    "\n",
    "class Rectangle: \n",
    "    def __init__(self, length, width):\n",
    "        self.__length = length\n",
    "        self.__width = width\n",
    "\n",
    "    # Getter method for length: \n",
    "    def get_length(self):\n",
    "        return self.__length\n",
    "\n",
    "    # Getter method for width: \n",
    "    def get_width(self):\n",
    "        return self.__width\n",
    "        \n",
    "    # Setter method for length: \n",
    "    def set_length (self, length):\n",
    "        if length > 10:\n",
    "            self.__length = length\n",
    "        else: \n",
    "            print(\"Your length is short! Try later.\")\n",
    "    \n",
    "    # Setter method for width: \n",
    "    def set_width (self, width): \n",
    "        if width > 8: \n",
    "            self.__width = width\n",
    "        else: \n",
    "            print(\"Your width is narrower than my expectations. Go Away!\")\n",
    "\n",
    "rec = Rectangle(10,8)\n",
    "\n",
    "print(rec.get_length())\n",
    "print(rec.get_width())\n",
    "print(rec.set_length(8))\n",
    "print(rec.set_width(5))\n",
    "print(rec.get_width())\n",
    "print(rec.set_width(20))\n",
    "print(rec.get_width())"
   ]
  },
  {
   "cell_type": "code",
   "execution_count": 27,
   "metadata": {},
   "outputs": [
    {
     "name": "stdout",
     "output_type": "stream",
     "text": [
      "The area of sqaure is: 100\n",
      "The area of circle is: 314.0\n"
     ]
    }
   ],
   "source": [
    "### Assignment 11: Abstract Base Class\n",
    "\n",
    "#Create an abstract base class named `Shape` with an abstract method `area`. Create derived classes `Circle` and \n",
    "# `Square` that implement the `area` method. Create objects of the derived classes and call the `area` method.\n",
    "\n",
    "from abc import ABC, abstractmethod\n",
    "\n",
    "# Abstract Base class\n",
    "\n",
    "class Shape(ABC):\n",
    "    \n",
    "    @abstractmethod\n",
    "    def area(self):\n",
    "        pass\n",
    "\n",
    "class Circle(Shape):\n",
    "\n",
    "    def __init__(self, radius):\n",
    "        self.radius = radius\n",
    "        \n",
    "    def area (self): \n",
    "        return (f\"The area of circle is: {3.14 * self.radius ** 2}\")\n",
    "    \n",
    "class Sqaure(Shape):\n",
    "\n",
    "    def __init__(self, side_length):\n",
    "        self.side_length = side_length\n",
    "\n",
    "    def area(self):\n",
    "        return (f\"The area of sqaure is: {self.side_length ** 2}\")\n",
    "\n",
    "sq = Sqaure(10)\n",
    "print(sq.area())\n",
    "\n",
    "circ = Circle(10)\n",
    "print(circ.area())"
   ]
  },
  {
   "cell_type": "code",
   "execution_count": null,
   "metadata": {},
   "outputs": [],
   "source": []
  },
  {
   "cell_type": "code",
   "execution_count": null,
   "metadata": {},
   "outputs": [],
   "source": []
  },
  {
   "cell_type": "code",
   "execution_count": null,
   "metadata": {},
   "outputs": [],
   "source": []
  }
 ],
 "metadata": {
  "kernelspec": {
   "display_name": "Python 3",
   "language": "python",
   "name": "python3"
  },
  "language_info": {
   "codemirror_mode": {
    "name": "ipython",
    "version": 3
   },
   "file_extension": ".py",
   "mimetype": "text/x-python",
   "name": "python",
   "nbconvert_exporter": "python",
   "pygments_lexer": "ipython3",
   "version": "3.12.0"
  }
 },
 "nbformat": 4,
 "nbformat_minor": 2
}
