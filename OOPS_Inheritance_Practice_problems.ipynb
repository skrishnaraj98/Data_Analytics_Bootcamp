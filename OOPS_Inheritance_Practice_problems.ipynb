{
 "cells": [
  {
   "cell_type": "code",
   "execution_count": 9,
   "metadata": {},
   "outputs": [
    {
     "name": "stdout",
     "output_type": "stream",
     "text": [
      "Dog breed: Golden Retriever, Dog name: Phoenix, Dog species: Dog\n"
     ]
    }
   ],
   "source": [
    "### Assignment 1: Single Inheritance Basic\n",
    "\n",
    "#Create a base class named `Animal` with attributes `name` and `species`. Create a derived class named `Dog` that \n",
    "# inherits from `Animal` and adds an attribute `breed`. Create an object of the `Dog` class and print its attributes.\n",
    "\n",
    "class Animal:\n",
    "    def __init__(self,name,species):\n",
    "        self.name = name\n",
    "        self.species = species\n",
    "\n",
    "class Dog(Animal): \n",
    "    def __init__(self,name,species, breed):\n",
    "        super().__init__(name,species)\n",
    "        self.breed = breed\n",
    "\n",
    "dog = Dog(\"Phoenix\",\"Dog\", \"Golden Retriever\")\n",
    "print(f\"Dog breed: {dog.breed}, Dog name: {dog.name}, Dog species: {dog.species}\")"
   ]
  },
  {
   "cell_type": "code",
   "execution_count": 12,
   "metadata": {},
   "outputs": [
    {
     "name": "stdout",
     "output_type": "stream",
     "text": [
      "Dog (Name: Rocky, Species: Dog, Breed: Labrador)\n"
     ]
    }
   ],
   "source": [
    "### Assignment 2: Method Overriding in Single Inheritance\n",
    "\n",
    "#In the `Dog` class, override the `__str__` method to return a string representation of the object. Create an \n",
    "# object of the class and print it.\n",
    "\n",
    "class Dog(Animal): \n",
    "    def __init__(self,name,species, breed):\n",
    "        super().__init__(name,species)\n",
    "        self.breed = breed\n",
    "\n",
    "    def __str__(self):\n",
    "        return f\"Dog (Name: {self.name}, Species: {self.species}, Breed: {self.breed})\"\n",
    "\n",
    "dog1 = Dog(\"Rocky\", \"Dog\", \"Labrador\")\n",
    "print(dog1)"
   ]
  },
  {
   "cell_type": "code",
   "execution_count": 14,
   "metadata": {},
   "outputs": [
    {
     "name": "stdout",
     "output_type": "stream",
     "text": [
      "Dog is Woofing!\n"
     ]
    }
   ],
   "source": [
    "### Assignment 3: Single Inheritance with Additional Methods\n",
    "\n",
    "#In the `Dog` class, add a method named `bark` that prints a barking sound. Create an object of the class and \n",
    "# call the method.\n",
    "\n",
    "class Dog(Animal): \n",
    "    def __init__(self,name,species, breed):\n",
    "        super().__init__(name,species)\n",
    "        self.breed = breed\n",
    "\n",
    "    def bark(self):\n",
    "        print(\"Dog is Woofing!\")\n",
    "\n",
    "dog2 = Dog(\"Lucky\", \"Dog\", \"Husky\")\n",
    "dog2.bark()"
   ]
  },
  {
   "cell_type": "code",
   "execution_count": 18,
   "metadata": {},
   "outputs": [
    {
     "name": "stdout",
     "output_type": "stream",
     "text": [
      "Person is Running!\n",
      "None\n",
      "Person is Walking!\n",
      "None\n"
     ]
    }
   ],
   "source": [
    "### Assignment 4: Multiple Inheritance Basic\n",
    "\n",
    "#Create a base class named `Walker` with a method `walk` that prints a walking message. Create another base \n",
    "# class named `Runner` with a method `run` that prints a running message. Create a derived class named `Athlete` \n",
    "# that inherits from both `Walker` and `Runner`. Create an object of the `Athlete` class and call both methods.\n",
    "\n",
    "class Walker:\n",
    "    def walk(self):\n",
    "        print(\"Person is Walking!\")\n",
    "\n",
    "class Runner:\n",
    "    def run(self):\n",
    "        print(\"Person is Running!\")\n",
    "\n",
    "class Athlete(Walker, Runner):\n",
    "    def jog(self):\n",
    "        print(\"Person is joggin!\")\n",
    "\n",
    "person = Athlete()\n",
    "print(person.run())\n",
    "print(person.walk())"
   ]
  },
  {
   "cell_type": "code",
   "execution_count": 20,
   "metadata": {},
   "outputs": [
    {
     "name": "stdout",
     "output_type": "stream",
     "text": [
      "Athlete is Walking!\n",
      "Person is Walking!\n"
     ]
    }
   ],
   "source": [
    "### Assignment 5: Method Resolution Order (MRO) in Multiple Inheritance\n",
    "\n",
    "#In the `Athlete` class, override the `walk` method to print a different message. Create an object of the \n",
    "# class and call the `walk` method. Use the `super()` function to call the `walk` method of the `Walker` class.\n",
    "\n",
    "class Athlete(Walker, Runner):\n",
    "    def walk(self):\n",
    "        print(\"Athlete is Walking!\")\n",
    "        super().walk()\n",
    "    \n",
    "ath = Athlete()\n",
    "ath.walk()\n",
    "\n",
    "    \n",
    "    "
   ]
  },
  {
   "cell_type": "code",
   "execution_count": 26,
   "metadata": {},
   "outputs": [
    {
     "data": {
      "text/plain": [
       "'Total training hour for an athlete is: 5'"
      ]
     },
     "execution_count": 26,
     "metadata": {},
     "output_type": "execute_result"
    }
   ],
   "source": [
    "### Assignment 6: Multiple Inheritance with Additional Attributes\n",
    "\n",
    "#In the `Athlete` class, add an attribute `training_hours` and a method `train` that prints the training hours. \n",
    "# Create an object of the class and call the method.\n",
    "\n",
    "class Athlete(Walker, Runner):\n",
    "    def __init__(self,training_hours):\n",
    "        self.training_hours =training_hours\n",
    "\n",
    "    def train(self):\n",
    "        return f\"Total training hour for an athlete is: {self.training_hours}\"\n",
    "\n",
    "ath1 = Athlete(5)\n",
    "ath1.train()\n"
   ]
  },
  {
   "cell_type": "code",
   "execution_count": 29,
   "metadata": {},
   "outputs": [
    {
     "name": "stdout",
     "output_type": "stream",
     "text": [
      "Hello_B\n"
     ]
    }
   ],
   "source": [
    "### Assignment 7: Diamond Problem in Multiple Inheritance\n",
    "\n",
    "# Create a class named `A` with a method `show` that prints a message. Create two derived classes `B` and `C` \n",
    "# that inherit from `A` and override the `show` method. Create a class `D` that inherits from both `B` and `C`. \n",
    "# Create an object of the `D` class and call the `show` method. Observe the method resolution order.\n",
    "\n",
    "class A:\n",
    "    def show(self):\n",
    "        print(\"Hello_A\")\n",
    "\n",
    "class B(A):\n",
    "    def show(self):\n",
    "        print(\"Hello_B\")\n",
    "    \n",
    "class C(A):\n",
    "    def show(self):\n",
    "        print(\"Hello_C\")\n",
    "\n",
    "class D(B,C):\n",
    "    pass\n",
    "\n",
    "d = D()\n",
    "d.show()\n",
    "\n",
    "\n",
    "##Method Resolution Order (MRO) is the order in which Python looks for methods in a class hierarchy when a method \n",
    "# is called. For example, if you have a class that inherits from multiple classes, Python will look at the current \n",
    "# class first, then the parent classes from left to right, and then further up the chain."
   ]
  },
  {
   "cell_type": "code",
   "execution_count": 32,
   "metadata": {},
   "outputs": [
    {
     "name": "stdout",
     "output_type": "stream",
     "text": [
      "Red\n",
      "10\n"
     ]
    }
   ],
   "source": [
    "### Assignment 8: Using `super()` in Single Inheritance\n",
    "\n",
    "#Create a base class named `Shape` with an attribute `color`. Create a derived class named `Circle` that inherits \n",
    "# from `Shape` and adds an attribute `radius`. Use the `super()` function to initialize the attributes. Create an\n",
    "# object of the `Circle` class and print its attributes.\n",
    "\n",
    "class Shape:\n",
    "    def __init__(self,color):\n",
    "        self.color = color\n",
    "    \n",
    "class Circle(Shape):\n",
    "    def __init__(self,color,radius):\n",
    "        super().__init__(color)\n",
    "        self.radius = radius\n",
    "\n",
    "circ = Circle(\"Red\", 10)\n",
    "print(circ.color)\n",
    "print(circ.radius)"
   ]
  },
  {
   "cell_type": "code",
   "execution_count": 49,
   "metadata": {},
   "outputs": [
    {
     "name": "stdout",
     "output_type": "stream",
     "text": [
      "krishna\n",
      "Q22\n"
     ]
    }
   ],
   "source": [
    "### Assignment 9: Using `super()` in Multiple Inheritance\n",
    "\n",
    "# Create a class named `Person` with an attribute `name`. Create a class named `Employee` with an attribute \n",
    "# `employee_id`. Create a derived class `Manager` that inherits from both `Person` and `Employee`. Use the `super()`\n",
    "#  function to initialize the attributes. Create an object of the `Manager` class and print its attributes.\n",
    "\n",
    "class Person: \n",
    "    def __init__(self,name):\n",
    "        self.name = name\n",
    "    \n",
    "class Employee: \n",
    "    def __init__(self,employee_id):\n",
    "        self.employee_id = employee_id\n",
    "\n",
    "class Manager(Person, Employee):\n",
    "    def __init__(self, name, employee_id):\n",
    "        super().__init__(name)\n",
    "        Employee.__init__(self,employee_id)\n",
    "\n",
    "obj = Manager(\"krishna\",\"Q22\")\n",
    "print(obj.name)\n",
    "print(obj.employee_id)"
   ]
  },
  {
   "cell_type": "code",
   "execution_count": 50,
   "metadata": {},
   "outputs": [
    {
     "name": "stdout",
     "output_type": "stream",
     "text": [
      "Car is Starting.\n",
      "Vehicle's Starting.\n"
     ]
    }
   ],
   "source": [
    "### Assignment 10: Method Overriding and `super()`\n",
    "\n",
    "#Create a class named `Vehicle` with a method `start` that prints a starting message. Create a derived class `Car` \n",
    "# that overrides the `start` method to print a different message. Use the `super()` function to call the `start`\n",
    "#  method of the `Vehicle` class. Create an object of the `Car` class and call the `start` method.\n",
    "\n",
    "class Vehicle:\n",
    "\n",
    "    def start(self):\n",
    "        print(\"Vehicle's Starting.\")\n",
    "\n",
    "class Car(Vehicle):\n",
    "\n",
    "    def start(self):\n",
    "        print(\"Car is Starting.\")\n",
    "        super().start()\n",
    "\n",
    "obj1 = Car()\n",
    "obj1.start()\n",
    "\n",
    "\n"
   ]
  },
  {
   "cell_type": "code",
   "execution_count": 51,
   "metadata": {},
   "outputs": [
    {
     "name": "stdout",
     "output_type": "stream",
     "text": [
      "I am flying!\n",
      "None\n",
      "I am swimming!\n",
      "None\n"
     ]
    }
   ],
   "source": [
    "### Assignment 11: Multiple Inheritance with Different Methods\n",
    "\n",
    "#Create a class named `Flyer` with a method `fly` that prints a flying message. Create a class named `Swimmer` \n",
    "# with a method `swim` that prints a swimming message. Create a derived class `Superhero` that inherits from \n",
    "# both `Flyer` and `Swimmer`. Create an object of the `Superhero` class and call both methods.\n",
    "\n",
    "class Flyer:\n",
    "    def fly(self):\n",
    "        print(\"I am flying!\")\n",
    "\n",
    "class Swimmer: \n",
    "    def swim(self):\n",
    "        print(\"I am swimming!\")\n",
    "\n",
    "class Superhero(Flyer,Swimmer): \n",
    "    pass\n",
    "\n",
    "obj3 = Superhero()\n",
    "print(obj3.fly())\n",
    "print(obj3.swim())"
   ]
  },
  {
   "cell_type": "code",
   "execution_count": 53,
   "metadata": {},
   "outputs": [
    {
     "name": "stdout",
     "output_type": "stream",
     "text": [
      "Hi Hola Hello\n"
     ]
    }
   ],
   "source": [
    "### Assignment 12: Complex Multiple Inheritance\n",
    "\n",
    "#Create a class named `Base1` with an attribute `a`. Create a class named `Base2` with an attribute `b`. Create \n",
    "# a class named `Derived` that inherits from both `Base1` and `Base2` and adds an attribute `c`. Initialize \n",
    "# all attributes using the `super()` function. Create an object of the `Derived` class and print its attributes.\n",
    "\n",
    "class Base1:\n",
    "    def __init__(self,a):\n",
    "        self.a = a\n",
    "\n",
    "class Base2:\n",
    "    def __init__(self,b):\n",
    "        self.b = b\n",
    "\n",
    "class Derived(Base1, Base2): \n",
    "    def __init__(self, a, b, c):\n",
    "        super().__init__(a)\n",
    "        Base2.__init__(self, b)\n",
    "        self.c = c\n",
    "    \n",
    "derived = Derived(\"Hi\",\"Hola\", \"Hello\")\n",
    "print(derived.a, derived.b, derived.c)"
   ]
  },
  {
   "cell_type": "code",
   "execution_count": 57,
   "metadata": {},
   "outputs": [
    {
     "data": {
      "text/plain": [
       "False"
      ]
     },
     "execution_count": 57,
     "metadata": {},
     "output_type": "execute_result"
    }
   ],
   "source": [
    "isinstance(derived, Flyer)"
   ]
  },
  {
   "cell_type": "code",
   "execution_count": 63,
   "metadata": {},
   "outputs": [
    {
     "name": "stdout",
     "output_type": "stream",
     "text": [
      "True\n",
      "False\n"
     ]
    }
   ],
   "source": [
    "### Assignment 13: Checking Instance Types with Inheritance\n",
    "\n",
    "#Create a base class named `Animal` and a derived class named `Cat`. Create objects of both classes and use the\n",
    "#  `isinstance` function to check the instance types.\n",
    "\n",
    "class Animal:\n",
    "    pass\n",
    "\n",
    "class Cat(Animal): \n",
    "    pass\n",
    "\n",
    "animal = Animal()\n",
    "cat = Cat()\n",
    "\n",
    "print(isinstance(cat,Animal))\n",
    "print(isinstance(animal, Cat))\n",
    "\n",
    "# The isinstance() function in Python checks if an object belongs to a specific class or a tuple of classes. "
   ]
  },
  {
   "cell_type": "code",
   "execution_count": 68,
   "metadata": {},
   "outputs": [
    {
     "name": "stdout",
     "output_type": "stream",
     "text": [
      "I am parrot\n",
      "None\n",
      "I am Penguin\n",
      "None\n"
     ]
    }
   ],
   "source": [
    "### Assignment 14: Polymorphism with Inheritance\n",
    "\n",
    "#Create a base class named `Bird` with a method `speak`. Create two derived classes `Parrot` and `Penguin` \n",
    "# that override the `speak` method. Create a list of `Bird` objects and call the `speak` method on each object\n",
    "#  to demonstrate polymorphism.\n",
    "\n",
    "class Bird:\n",
    "    def speak(self):\n",
    "        print(\"Yo Man!\")\n",
    "\n",
    "class Parrot(Bird):\n",
    "    def speak(self):\n",
    "        print(\"I am parrot\")\n",
    "\n",
    "class Penguin(Bird):\n",
    "    def speak(self):\n",
    "        print(\"I am Penguin\")\n",
    "\n",
    "\n",
    "birds_list = [Parrot(), Penguin()]\n",
    "\n",
    "for bird in birds_list:\n",
    "    print(bird.speak())"
   ]
  },
  {
   "cell_type": "code",
   "execution_count": 72,
   "metadata": {},
   "outputs": [
    {
     "name": "stdout",
     "output_type": "stream",
     "text": [
      "Samsung S23 Ultra 100MP\n"
     ]
    }
   ],
   "source": [
    "### Assignment 15: Combining Single and Multiple Inheritance\n",
    "\n",
    "#Create a base class named `Device` with an attribute `brand`. Create a derived class `Phone` that inherits \n",
    "# from `Device` and adds an attribute `model`. Create another base class `Camera` with an attribute `resolution`. \n",
    "# Create a derived class `Smartphone` that inherits from both `Phone` and `Camera`. Create an object of the\n",
    "#  `Smartphone` class and print its attributes.\n",
    "\n",
    "class Device: \n",
    "    def __init__(self,brand):\n",
    "        self.brand = brand\n",
    "    \n",
    "class Phone(Device):\n",
    "    def __init__(self, brand, model):\n",
    "        super().__init__(brand)\n",
    "        self.model = model\n",
    "\n",
    "class Camera:\n",
    "    def __init__(self, resolution):\n",
    "        self.resolution = resolution\n",
    "\n",
    "class Smartphone(Phone, Camera):\n",
    "    def __init__(self, brand, model, resolution):\n",
    "        super().__init__(brand, model)\n",
    "        Camera.__init__(self, resolution)\n",
    "\n",
    "smartphone = Smartphone(\"Samsung\", \"S23 Ultra\", \"100MP\")\n",
    "print(smartphone.brand, smartphone.model, smartphone.resolution)"
   ]
  },
  {
   "cell_type": "code",
   "execution_count": null,
   "metadata": {},
   "outputs": [],
   "source": []
  },
  {
   "cell_type": "code",
   "execution_count": null,
   "metadata": {},
   "outputs": [],
   "source": []
  },
  {
   "cell_type": "code",
   "execution_count": null,
   "metadata": {},
   "outputs": [],
   "source": []
  },
  {
   "cell_type": "code",
   "execution_count": null,
   "metadata": {},
   "outputs": [],
   "source": []
  },
  {
   "cell_type": "code",
   "execution_count": null,
   "metadata": {},
   "outputs": [],
   "source": []
  },
  {
   "cell_type": "code",
   "execution_count": null,
   "metadata": {},
   "outputs": [],
   "source": []
  },
  {
   "cell_type": "code",
   "execution_count": null,
   "metadata": {},
   "outputs": [],
   "source": []
  },
  {
   "cell_type": "code",
   "execution_count": null,
   "metadata": {},
   "outputs": [],
   "source": []
  },
  {
   "cell_type": "code",
   "execution_count": null,
   "metadata": {},
   "outputs": [],
   "source": []
  },
  {
   "cell_type": "code",
   "execution_count": null,
   "metadata": {},
   "outputs": [],
   "source": []
  },
  {
   "cell_type": "code",
   "execution_count": null,
   "metadata": {},
   "outputs": [],
   "source": []
  },
  {
   "cell_type": "code",
   "execution_count": null,
   "metadata": {},
   "outputs": [],
   "source": []
  },
  {
   "cell_type": "code",
   "execution_count": null,
   "metadata": {},
   "outputs": [],
   "source": []
  },
  {
   "cell_type": "code",
   "execution_count": null,
   "metadata": {},
   "outputs": [],
   "source": []
  },
  {
   "cell_type": "code",
   "execution_count": null,
   "metadata": {},
   "outputs": [],
   "source": []
  },
  {
   "cell_type": "code",
   "execution_count": null,
   "metadata": {},
   "outputs": [],
   "source": []
  },
  {
   "cell_type": "code",
   "execution_count": null,
   "metadata": {},
   "outputs": [],
   "source": []
  },
  {
   "cell_type": "code",
   "execution_count": null,
   "metadata": {},
   "outputs": [],
   "source": []
  },
  {
   "cell_type": "code",
   "execution_count": null,
   "metadata": {},
   "outputs": [],
   "source": []
  },
  {
   "cell_type": "code",
   "execution_count": null,
   "metadata": {},
   "outputs": [],
   "source": []
  },
  {
   "cell_type": "code",
   "execution_count": null,
   "metadata": {},
   "outputs": [],
   "source": []
  },
  {
   "cell_type": "code",
   "execution_count": null,
   "metadata": {},
   "outputs": [],
   "source": []
  },
  {
   "cell_type": "code",
   "execution_count": null,
   "metadata": {},
   "outputs": [],
   "source": []
  },
  {
   "cell_type": "code",
   "execution_count": null,
   "metadata": {},
   "outputs": [],
   "source": []
  },
  {
   "cell_type": "code",
   "execution_count": null,
   "metadata": {},
   "outputs": [],
   "source": []
  },
  {
   "cell_type": "code",
   "execution_count": null,
   "metadata": {},
   "outputs": [],
   "source": []
  },
  {
   "cell_type": "code",
   "execution_count": null,
   "metadata": {},
   "outputs": [],
   "source": []
  },
  {
   "cell_type": "code",
   "execution_count": null,
   "metadata": {},
   "outputs": [],
   "source": []
  },
  {
   "cell_type": "code",
   "execution_count": null,
   "metadata": {},
   "outputs": [],
   "source": []
  },
  {
   "cell_type": "code",
   "execution_count": null,
   "metadata": {},
   "outputs": [],
   "source": []
  },
  {
   "cell_type": "code",
   "execution_count": null,
   "metadata": {},
   "outputs": [],
   "source": []
  },
  {
   "cell_type": "code",
   "execution_count": null,
   "metadata": {},
   "outputs": [],
   "source": []
  }
 ],
 "metadata": {
  "kernelspec": {
   "display_name": "Python 3",
   "language": "python",
   "name": "python3"
  },
  "language_info": {
   "codemirror_mode": {
    "name": "ipython",
    "version": 3
   },
   "file_extension": ".py",
   "mimetype": "text/x-python",
   "name": "python",
   "nbconvert_exporter": "python",
   "pygments_lexer": "ipython3",
   "version": "3.12.0"
  }
 },
 "nbformat": 4,
 "nbformat_minor": 2
}
